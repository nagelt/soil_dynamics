{
  "cells": [
    {
      "cell_type": "markdown",
      "metadata": {
        "deletable": false,
        "editable": false
      },
      "source": [
        "<div style=\"display: flex; align-items: center;\">\n",
        "    <img src=\"https://github.com/nagelt/Teaching_Scripts/raw/9d9e29ecca4b04eaf7397938eacbf116d37ddc93/Images/TUBAF_Logo_blau.png\" width=\"500\" height=\"auto\" height=\"auto\" style=\"margin-right: 100px;\" />\n",
        "    <div>\n",
        "        <p><strong>Prof. Dr. Thomas Nagel</strong></p>\n",
        "        <p>Chair of Soil Mechanics and Foundation Engineering<br>Geotechnical Institute<br>Technische Universität Bergakademie Freiberg.</p>\n",
        "        <p><a href=\"https://tu-freiberg.de/en/soilmechanics\">https://tu-freiberg.de/en/soilmechanics</a></p>\n",
        "    </div>\n",
        "</div>"
      ]
    },
    {
      "cell_type": "markdown",
      "metadata": {},
      "source": [
        "# Einmassenschwinger, Frequenzanalyse\n",
        "\n",
        "![oscillator1dof.png](https://github.com/nagelt/soil_dynamics/raw/master/Images/oscillator1dof.png)"
      ]
    },
    {
      "cell_type": "markdown",
      "metadata": {},
      "source": [
        "## Hilfsfunktionen"
      ]
    },
    {
      "cell_type": "markdown",
      "metadata": {},
      "source": [
        "Module laden"
      ]
    },
    {
      "cell_type": "code",
      "execution_count": null,
      "metadata": {},
      "outputs": [],
      "source": [
        "import numpy as np\n",
        "import matplotlib.pyplot as plt\n",
        "from scipy.fft import fft, fftfreq\n",
        "from scipy.signal.windows import hann   \n",
        "from ipywidgets import widgets\n",
        "from ipywidgets import interact\n",
        "#from IPython.display import display, clear_output\n",
        "import plot_functions.plot_settings\n",
        "%run plot_functions/frequency_analysis_interaction.ipynb"
      ]
    },
    {
      "cell_type": "markdown",
      "metadata": {},
      "source": [
        "Eingeschwungenen Zustand (partikuläre Lösung) berechnen, inklusive Vergrößerungsfunktion und Phasendifferenz"
      ]
    },
    {
      "cell_type": "code",
      "execution_count": null,
      "metadata": {},
      "outputs": [],
      "source": [
        "def steady_state_solution(omega, omega_n, D, a_c, a_s):\n",
        "    beta = omega/omega_n\n",
        "    if beta==1 and D==0:   \n",
        "        # there are no steady-state terms, linear increase with time needs to be added manually\n",
        "        V = 0.0 \n",
        "        psi = 0.0\n",
        "        u_c = 0.0\n",
        "        u_s = 0.0\n",
        "    else:        \n",
        "        V2 = 1.0/( (1-beta**2)**2 + (2*beta*D)**2 )\n",
        "        V = np.sqrt(V2)\n",
        "        psi = np.arctan2(2*D*beta, 1-beta**2)\n",
        "        u_c = V2*( (1-beta**2)*a_c - 2*D*beta*a_s )\n",
        "        u_s = V2*( (1-beta**2)*a_s + 2*D*beta*a_c )\n",
        "    return [u_c, u_s, V, psi]"
      ]
    },
    {
      "cell_type": "markdown",
      "metadata": {},
      "source": [
        "Anpassen der Gesamtlösung an die Anfangsbedingungen"
      ]
    },
    {
      "cell_type": "code",
      "execution_count": null,
      "metadata": {},
      "outputs": [],
      "source": [
        "def transient_solution(t_0, u_0, v_0):\n",
        "    # requires existence of uh(t), vh(t), up(t), vp(t)\n",
        "    uh_c1 = uh_1(t_0)\n",
        "    uh_c2 = uh_2(t_0)\n",
        "    vh_c1 = vh_1(t_0)\n",
        "    vh_c2 = vh_2(t_0)\n",
        "    up_0 = up(t_0)\n",
        "    vp_0 = vp(t_0)\n",
        "    # LES M*x=b\n",
        "    M = np.array([[uh_c1, uh_c2], [vh_c1, vh_c2]])\n",
        "    b = np.array([u_0-up_0, v_0-vp_0])\n",
        "    x = np.linalg.solve(M, b)\n",
        "    C_1 = x[0]\n",
        "    C_2 = x[1]\n",
        "    return [C_1, C_2]"
      ]
    },
    {
      "cell_type": "markdown",
      "metadata": {},
      "source": [
        "## Simulation "
      ]
    },
    {
      "cell_type": "markdown",
      "metadata": {},
      "source": [
        "Parameterdefinition"
      ]
    },
    {
      "cell_type": "code",
      "execution_count": null,
      "metadata": {},
      "outputs": [],
      "source": [
        "m = 3.0   # kg\n",
        "k = 10.0   # N/m\n",
        "c = 1.0   # Ns/m   \n",
        "t_0 = 0.0   # s\n",
        "u_0 = 0.0   # m\n",
        "v_0 = 0.0   # m/s\n",
        "# excitation (discrete spectrum)\n",
        "T_a =  9.0  # s\n",
        "A = [0.0, 0.0, 0.2,-0.2] # m\n",
        "B = [0.0, 1.0, 0.0, 0.4] # m, note B_0 is irrelevant, since sin(0)=0\n",
        "\n",
        "omega = 2*np.pi/T_a\n",
        "omega_n = np.sqrt(k/m)\n",
        "D = c/(2*np.sqrt(k*m))\n",
        "N = len(A)\n",
        "if N != len(B):\n",
        "    print(\"Error: coefficient lists of different length\")"
      ]
    },
    {
      "cell_type": "markdown",
      "metadata": {},
      "source": [
        "Zusammengesetztes, harmonisches Anregungssignal"
      ]
    },
    {
      "cell_type": "code",
      "execution_count": null,
      "metadata": {},
      "outputs": [],
      "source": [
        "an = lambda n, t:  A[n]*np.cos(n*omega*t) + B[n]*np.sin(n*omega*t)   # Fourier series\n",
        "a = lambda t: sum([an(nn, t) for nn in range(N)])   # superposition"
      ]
    },
    {
      "cell_type": "markdown",
      "metadata": {},
      "source": [
        "Partikulärlösung"
      ]
    },
    {
      "cell_type": "code",
      "execution_count": null,
      "metadata": {},
      "outputs": [],
      "source": [
        "Uc = []   \n",
        "Us = []   \n",
        "undamped_resonance = False\n",
        "\n",
        "for fn, (An, Bn) in enumerate(zip(A, B)):\n",
        "    if fn*omega==omega_n and D==0:\n",
        "        undamped_resonance = True\n",
        "        rUs= 0.5*omega_n*An\n",
        "        rUc= 0.5*omega_n*Bn\n",
        "    [u_cn, u_sn, V, psi] = steady_state_solution(fn*omega, omega_n, D, An, Bn)\n",
        "    Uc.append(u_cn)   \n",
        "    Us.append(u_sn)\n",
        "\n",
        "# steady-state solutions\n",
        "upn = lambda n,t:   Uc[n]*np.cos(n*omega*t) + Us[n]*np.sin(n*omega*t)\n",
        "vpn = lambda n,t: (-Uc[n]*np.sin(n*omega*t) + Us[n]*np.cos(n*omega*t))*n*omega   \n",
        "\n",
        "# superposition of steady-state solutions and possibly resonant terms\n",
        "if undamped_resonance:\n",
        "    up = lambda t: sum([upn(nn, t) for nn in range(N)]) + t*(Us*np.sin(omega_n*t) + Uc*t*np.cos(omega_n*t))\n",
        "    vp = lambda t: sum([vpn(nn, t) for nn in range(N)]) + Us*np.sin(omega_n*t) + Uc*t*np.cos(omega_n*t) + t*omega_n*(Us*np.cos(omega_n*t) - Uc*t*np.sin(omega_n*t))\n",
        "else:\n",
        "    up = lambda t: sum([upn(nn, t) for nn in range(N)])   \n",
        "    vp = lambda t: sum([vpn(nn, t) for nn in range(N)])   "
      ]
    },
    {
      "cell_type": "markdown",
      "metadata": {},
      "source": [
        "Lösung der homogenen Gleichung"
      ]
    },
    {
      "cell_type": "code",
      "execution_count": null,
      "metadata": {},
      "outputs": [],
      "source": [
        "if D < 1:\n",
        "    omega_1 = omega_n*np.sqrt(1-D**2)\n",
        "    delta = omega_n*D\n",
        "    print(\"omega_1={:.3f} rad/s\".format(omega_1), \"   delta={:.3f} 1/s\".format(delta))\n",
        "    uh_1 = lambda t: np.exp(-delta*t)*np.cos(omega_1*t)\n",
        "    uh_2 = lambda t: np.exp(-delta*t)*np.sin(omega_1*t)\n",
        "    vh_1 = lambda t: np.exp(-delta*t)*( -delta*np.cos(omega_1*t) - omega_1*np.sin(omega_1*t) )\n",
        "    vh_2 = lambda t: np.exp(-delta*t)*( -delta*np.sin(omega_1*t) + omega_1*np.cos(omega_1*t) )\n",
        "elif D > 1:\n",
        "    delta_1 = omega_n*(D - np.sqrt(D**2 - 1))\n",
        "    delta_2 = omega_n*(D + np.sqrt(D**2 - 1))\n",
        "    print(\"delta_1={:.3f} 1/s\".format(delta_1), \"   delta_2={:.3f} 1/s\".format(delta_2) )\n",
        "    uh_1 = lambda t: np.exp(-delta_1*t)\n",
        "    uh_2 = lambda t: np.exp(-delta_2*t)\n",
        "    vh_1 = lambda t: np.exp(-delta_1*t)*(-delta_1)\n",
        "    vh_2 = lambda t: np.exp(-delta_2*t)*(-delta_2)\n",
        "else:\n",
        "    delta = omega_n*D\n",
        "    print(\"delta={:.3f} 1/s\".format(delta), \"   (critical damping)\")\n",
        "    uh_1 = lambda t: np.exp(-delta*t)\n",
        "    uh_2 = lambda t: t*np.exp(-delta*t)\n",
        "    vh_1 = lambda t:-np.exp(-delta*t)*delta\n",
        "    vh_2 = lambda t: np.exp(-delta*t) - t*np.exp(-delta*t)*delta"
      ]
    },
    {
      "cell_type": "markdown",
      "metadata": {},
      "source": [
        "Gesamtlösung für das erste Intervall (*Erdbeben*)"
      ]
    },
    {
      "cell_type": "code",
      "execution_count": null,
      "metadata": {},
      "outputs": [],
      "source": [
        "[C_1, C_2] = transient_solution(t_0, u_0, v_0)\n",
        "\n",
        "uh = lambda t: C_1*uh_1(t) + C_2*uh_2(t) \n",
        "u = lambda t:  uh(t) + up(t) \n",
        "vh = lambda t: C_1*vh_1(t) + C_2*vh_2(t) \n",
        "v = lambda t:  vh(t) + vp(t) \n",
        "\n",
        "earthquake_repetitions = 3   # the longer observation interval, the finer frequency resolution (FFT)\n",
        "t_T = t_0 + earthquake_repetitions*T_a\n",
        "u_T = u(t_T) \n",
        "v_T = v(t_T)\n",
        "t_sample_T = np.linspace(t_0, t_T , 500)   # discretization in time\n",
        "a_sample_T  =  a(t_sample_T)\n",
        "uh_sample_T = uh(t_sample_T)\n",
        "up_sample_T = up(t_sample_T)\n",
        "u_sample_T  =  u(t_sample_T)\n"
      ]
    },
    {
      "cell_type": "markdown",
      "metadata": {},
      "source": [
        "Gesamtlösung für das zweite Intervall (*Nachwirkung*)"
      ]
    },
    {
      "cell_type": "code",
      "execution_count": null,
      "metadata": {},
      "outputs": [],
      "source": [
        "a  = lambda t: 0*t\n",
        "up = lambda t: 0*t\n",
        "vp = lambda t: 0*t\n",
        "\n",
        "[C_1, C_2] = transient_solution(t_T, u_T, v_T)   # end of first intervall is begin of second\n",
        "uh = lambda t: C_1*uh_1(t) + C_2*uh_2(t) \n",
        "u = lambda t:  uh(t) + up(t) \n",
        "vh = lambda t: C_1*vh_1(t) + C_2*vh_2(t) \n",
        "v = lambda t:  vh(t) + vp(t) \n",
        "\n",
        "aftermath_repetitions = 2\n",
        "t_2T = t_T + aftermath_repetitions*T_a\n",
        "t_sample_2T = np.linspace(t_T, t_2T , 500)   # discretization in time\n",
        "a_sample_2T = a(t_sample_2T)\n",
        "uh_sample_2T = uh(t_sample_2T)\n",
        "up_sample_2T = up(t_sample_2T)\n",
        "u_sample_2T = u(t_sample_2T)"
      ]
    },
    {
      "cell_type": "markdown",
      "metadata": {},
      "source": [
        "Beide Intervalle zusammensetzen und grafisch darstellen"
      ]
    },
    {
      "cell_type": "code",
      "execution_count": null,
      "metadata": {},
      "outputs": [],
      "source": [
        "t_sample = np.concatenate((t_sample_T, t_sample_2T))\n",
        "a_sample = np.concatenate((a_sample_T, a_sample_2T))\n",
        "u_sample = np.concatenate((u_sample_T, u_sample_2T))\n",
        "\n",
        "plt.figure(1)\n",
        "plt.plot(t_sample, a_sample, 'r', t_sample, u_sample, 'b');\n",
        "plt.xlabel(r\"$t$\");"
      ]
    },
    {
      "cell_type": "markdown",
      "metadata": {},
      "source": [
        "## Anregungs- und Antwortspektrum berechnen"
      ]
    },
    {
      "cell_type": "markdown",
      "metadata": {},
      "source": [
        "Das Anregungsspektrum (Eingang) ist gegeben, es wird zur Kontrolle nochmal berechnet und dem Antwortspektrum verglichen."
      ]
    },
    {
      "cell_type": "code",
      "execution_count": null,
      "metadata": {},
      "outputs": [],
      "source": [
        "dt = t_sample[1] - t_sample[0] \n",
        "Na = len(t_sample_T)  \n",
        "a_f = fft(a_sample_T)    \n",
        "ta_f = fftfreq(Na, dt) "
      ]
    },
    {
      "cell_type": "markdown",
      "metadata": {},
      "source": [
        "Antwortspektrum (Ausgang)"
      ]
    },
    {
      "cell_type": "code",
      "execution_count": null,
      "metadata": {},
      "outputs": [],
      "source": [
        "Nu = len(t_sample_T) # \n",
        "w = hann(Nu)   # Hanning window\n",
        "uw_f = fft(w*u_sample_T)     \n",
        "tu_f = fftfreq(Nu, dt)[:Nu//2]"
      ]
    },
    {
      "cell_type": "markdown",
      "metadata": {},
      "source": [
        "Grafische Darstellung (der unteren Frequenzen)"
      ]
    },
    {
      "cell_type": "code",
      "execution_count": null,
      "metadata": {
        "tags": []
      },
      "outputs": [],
      "source": [
        "f0 = omega_n/(2*np.pi)   \n",
        "plt.figure(2)\n",
        "plt.plot(ta_f[:Na//20], (2/Na)*np.abs(a_f[:Na//20]), 'ro:', tu_f[:Nu//20], (2/Nu)*np.abs(uw_f[:Nu//20]), 'bo:', f0,0,'ko')\n",
        "plt.xlabel(r\"$f$\");"
      ]
    },
    {
      "cell_type": "markdown",
      "metadata": {},
      "source": [
        "Vergleichen Sie das Anregungsspektrum (rot) mit den gegebenen Koeffizienten ($A_n$, $B_n$) und der durch die Grundperiode $T_a$ gegebenen Frequenzen $f_n$ der Anregung."
      ]
    },
    {
      "cell_type": "markdown",
      "metadata": {},
      "source": [
        "Warum befinden sich die Maxima beider Spektren bei unterschiedlichen Frequenzen?\n",
        "Hinweis: Der einzelne schwarze Punkt markiert die ungedämpfte Eigenfrequenz."
      ]
    },
    {
      "cell_type": "markdown",
      "metadata": {},
      "source": [
        "**Zusatzaufgabe:** komplexer Frequenzgang und Phasenspektrum"
      ]
    },
    {
      "cell_type": "markdown",
      "metadata": {},
      "source": [
        "## Allgemeine Beispiele Zeitverlauf-Frequenzspektrum\n",
        "Generiere einen Zeitverlauf und berechne dessen Spektrum"
      ]
    },
    {
      "cell_type": "code",
      "execution_count": null,
      "metadata": {},
      "outputs": [],
      "source": [
        "interactive_signal_spectrum_plot();   "
      ]
    },
    {
      "cell_type": "code",
      "execution_count": null,
      "metadata": {},
      "outputs": [],
      "source": []
    }
  ],
  "metadata": {
    "kernelspec": {
      "display_name": "Python 3 (ipykernel)",
      "language": "python",
      "name": "python3"
    },
    "language_info": {
      "codemirror_mode": {
        "name": "ipython",
        "version": 3
      },
      "file_extension": ".py",
      "mimetype": "text/x-python",
      "name": "python",
      "nbconvert_exporter": "python",
      "pygments_lexer": "ipython3",
      "version": "3.10.12"
    },
    "widgets": {
      "application/vnd.jupyter.widget-state+json": {
        "state": {},
        "version_major": 2,
        "version_minor": 0
      }
    }
  },
  "nbformat": 4,
  "nbformat_minor": 4
}