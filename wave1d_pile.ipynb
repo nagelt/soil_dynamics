{
  "cells": [
    {
      "cell_type": "markdown",
      "metadata": {
        "deletable": false,
        "editable": false
      },
      "source": [
        "<div style=\"display: flex; align-items: center;\">\n",
        "    <img src=\"https://github.com/nagelt/Teaching_Scripts/raw/9d9e29ecca4b04eaf7397938eacbf116d37ddc93/Images/TUBAF_Logo_blau.png\" width=\"500\" height=\"auto\" height=\"auto\" style=\"margin-right: 100px;\" />\n",
        "    <div>\n",
        "        <p><strong>Prof. Dr. Thomas Nagel</strong></p>\n",
        "        <p>Chair of Soil Mechanics and Foundation Engineering<br>Geotechnical Institute<br>Technische Universität Bergakademie Freiberg.</p>\n",
        "        <p><a href=\"https://tu-freiberg.de/en/soilmechanics\">https://tu-freiberg.de/en/soilmechanics</a></p>\n",
        "    </div>\n",
        "</div>"
      ]
    },
    {
      "cell_type": "markdown",
      "metadata": {},
      "source": [
        "# Pfahl unter zyklischer Last\n"
      ]
    },
    {
      "cell_type": "markdown",
      "metadata": {},
      "source": [
        "Module laden"
      ]
    },
    {
      "cell_type": "code",
      "execution_count": 1,
      "metadata": {},
      "outputs": [],
      "source": [
        "import sympy as sp\n",
        "import numpy as np\n",
        "import matplotlib.pyplot as plt\n",
        "from ipywidgets import widgets\n",
        "from ipywidgets import interact\n",
        "from sympy.interactive import printing\n",
        "import plot_functions.plot_settings\n",
        "%run plot_functions/wave1d_pile_interaction.ipynb\n",
        "printing.init_printing()\n",
        "%load_ext ipydex.displaytools"
      ]
    },
    {
      "cell_type": "markdown",
      "metadata": {},
      "source": [
        "_Last line enables special comment **##:** for LaTeX formatting of output_ "
      ]
    },
    {
      "cell_type": "markdown",
      "metadata": {},
      "source": [
        "## Stationärer Zustand"
      ]
    },
    {
      "cell_type": "markdown",
      "metadata": {},
      "source": [
        "![wavebar_pile.png](https://github.com/nagelt/soil_dynamics/raw/master/Images/wavebar_pile.png)"
      ]
    },
    {
      "cell_type": "markdown",
      "metadata": {},
      "source": [
        "Variablen für symbolische Rechnung deklarieren (sympy)"
      ]
    },
    {
      "cell_type": "code",
      "execution_count": 2,
      "metadata": {},
      "outputs": [],
      "source": [
        "A, rho, E, kappa, omega, z, t, C1, C2, L, F, H = sp.symbols('A rho E kappa omega z t C1 C2 L F H')"
      ]
    },
    {
      "cell_type": "markdown",
      "metadata": {},
      "source": [
        "Hilfsfunktion um die Koeffizienten ($C_1$, $C_2$) aus den Randbedingungen (Kraftverlauf oben, unverschieblich unten) zu bestimmen"
      ]
    },
    {
      "cell_type": "code",
      "execution_count": 3,
      "metadata": {},
      "outputs": [],
      "source": [
        "def solveBC(f):\n",
        "    dfdz = f.diff(z)\n",
        "    BCtop = dfdz.subs(z, 0) + F/(E*A)\n",
        "    BCbottom = f.subs(z, L) \n",
        "    BCsol = sp.solve([BCtop, BCbottom], C1, C2)\n",
        "    return BCsol    "
      ]
    },
    {
      "cell_type": "markdown",
      "metadata": {},
      "source": [
        "Aus dem Ansatz $w(z,t)=f(z)sin(\\omega t)$ folgt für $f(z)$ in einem Fall der Diskriminante"
      ]
    },
    {
      "cell_type": "code",
      "execution_count": 4,
      "metadata": {
        "scrolled": true
      },
      "outputs": [],
      "source": [
        "alpha = sp.sqrt(1-(kappa*H)**2)\n",
        "fa = C1*sp.cosh(alpha*z/H) + C2*sp.sinh(alpha*z/H)   # hyperbolic functions"
      ]
    },
    {
      "cell_type": "markdown",
      "metadata": {},
      "source": [
        "Die unbestimmten Koeffizienten $C_1$ und $C_2$ folgen aus den Randbedingungen"
      ]
    },
    {
      "cell_type": "code",
      "execution_count": 5,
      "metadata": {},
      "outputs": [],
      "source": [
        "BCsol_a = solveBC(fa)"
      ]
    },
    {
      "cell_type": "markdown",
      "metadata": {},
      "source": [
        "Einsetzen in den ursprünglichen Ansatz"
      ]
    },
    {
      "cell_type": "code",
      "execution_count": 6,
      "metadata": {},
      "outputs": [
        {
          "data": {
            "image/png": "[encoded data removed]",
            "text/latex": [
              "$\\displaystyle - \\frac{F H \\left(\\sinh{\\left(\\frac{z \\sqrt{- H^{2} \\kappa^{2} + 1}}{H} \\right)} - \\cosh{\\left(\\frac{z \\sqrt{- H^{2} \\kappa^{2} + 1}}{H} \\right)} \\tanh{\\left(\\frac{L \\sqrt{- H^{2} \\kappa^{2} + 1}}{H} \\right)}\\right) \\sin{\\left(\\omega t \\right)}}{A E \\sqrt{- H^{2} \\kappa^{2} + 1}}$"
            ],
            "text/plain": [
              "     ⎛    ⎛     _____________⎞       ⎛     _____________⎞     ⎛     __________\n",
              "     ⎜    ⎜    ╱    2  2     ⎟       ⎜    ╱    2  2     ⎟     ⎜    ╱    2  2  \n",
              "     ⎜    ⎜z⋅╲╱  - H ⋅κ  + 1 ⎟       ⎜z⋅╲╱  - H ⋅κ  + 1 ⎟     ⎜L⋅╲╱  - H ⋅κ  +\n",
              "-F⋅H⋅⎜sinh⎜──────────────────⎟ - cosh⎜──────────────────⎟⋅tanh⎜───────────────\n",
              "     ⎝    ⎝        H         ⎠       ⎝        H         ⎠     ⎝        H      \n",
              "──────────────────────────────────────────────────────────────────────────────\n",
              "                                            _____________                     \n",
              "                                           ╱    2  2                          \n",
              "                                     A⋅E⋅╲╱  - H ⋅κ  + 1                      \n",
              "\n",
              "___⎞⎞          \n",
              "   ⎟⎟          \n",
              " 1 ⎟⎟          \n",
              "───⎟⎟⋅sin(ω⋅t) \n",
              "   ⎠⎠          \n",
              "───────────────\n",
              "               \n",
              "               \n",
              "               "
            ]
          },
          "metadata": {},
          "output_type": "display_data"
        }
      ],
      "source": [
        "fasol = fa.subs([(C1, BCsol_a[C1]), (C2, BCsol_a[C2])])\n",
        "wasol = sp.simplify(fasol*sp.sin(omega*t))\n",
        "display(wasol)\n",
        "#print(wasol)   # for safety if display fails"
      ]
    },
    {
      "cell_type": "markdown",
      "metadata": {},
      "source": [
        "Jetzt noch mal das gleiche für den anderen Fall der Diskriminante um reell zu bleiben (*alternativ total komplex*)"
      ]
    },
    {
      "cell_type": "code",
      "execution_count": 7,
      "metadata": {},
      "outputs": [
        {
          "data": {
            "image/png": "[encoded data removed]",
            "text/latex": [
              "$\\displaystyle \\frac{F H \\left(- \\sin{\\left(\\frac{z \\sqrt{H^{2} \\kappa^{2} - 1}}{H} \\right)} + \\cos{\\left(\\frac{z \\sqrt{H^{2} \\kappa^{2} - 1}}{H} \\right)} \\tan{\\left(\\frac{L \\sqrt{H^{2} \\kappa^{2} - 1}}{H} \\right)}\\right) \\sin{\\left(\\omega t \\right)}}{A E \\sqrt{H^{2} \\kappa^{2} - 1}}$"
            ],
            "text/plain": [
              "    ⎛     ⎛     ___________⎞      ⎛     ___________⎞    ⎛     ___________⎞⎞   \n",
              "    ⎜     ⎜    ╱  2  2     ⎟      ⎜    ╱  2  2     ⎟    ⎜    ╱  2  2     ⎟⎟   \n",
              "    ⎜     ⎜z⋅╲╱  H ⋅κ  - 1 ⎟      ⎜z⋅╲╱  H ⋅κ  - 1 ⎟    ⎜L⋅╲╱  H ⋅κ  - 1 ⎟⎟   \n",
              "F⋅H⋅⎜- sin⎜────────────────⎟ + cos⎜────────────────⎟⋅tan⎜────────────────⎟⎟⋅si\n",
              "    ⎝     ⎝       H        ⎠      ⎝       H        ⎠    ⎝       H        ⎠⎠   \n",
              "──────────────────────────────────────────────────────────────────────────────\n",
              "                                        ___________                           \n",
              "                                       ╱  2  2                                \n",
              "                                 A⋅E⋅╲╱  H ⋅κ  - 1                            \n",
              "\n",
              "      \n",
              "      \n",
              "      \n",
              "n(ω⋅t)\n",
              "      \n",
              "──────\n",
              "      \n",
              "      \n",
              "      "
            ]
          },
          "metadata": {},
          "output_type": "display_data"
        }
      ],
      "source": [
        "beta = sp.sqrt(-1+(kappa*H)**2)\n",
        "fb = C1*sp.cos(beta*z/H) + C2*sp.sin(beta*z/H)    # trigonometric functions\n",
        "BCsol_b = solveBC(fb)\n",
        "fbsol = fb.subs([(C1, BCsol_b[C1]), (C2, BCsol_b[C2])])\n",
        "wbsol = sp.simplify(fbsol*sp.sin(omega*t))\n",
        "display(wbsol)\n",
        "#print(wbsol)   # for safety if display fails"
      ]
    },
    {
      "cell_type": "code",
      "execution_count": 8,
      "metadata": {},
      "outputs": [
        {
          "data": {
            "application/vnd.jupyter.widget-view+json": {
              "model_id": "e7a586bae4cb4aad8feae0365732e41a",
              "version_major": 2,
              "version_minor": 0
            },
            "text/plain": [
              "interactive(children=(IntSlider(value=5, description=r'$f$ [Hz]:', max=101, min=1, step=5), IntSlider(value=101…"
            ]
          },
          "metadata": {},
          "output_type": "display_data"
        }
      ],
      "source": [
        "interactive_pile_plot()   "
      ]
    },
    {
      "cell_type": "markdown",
      "metadata": {},
      "source": [
        "Wie ändert sich die Eigenfrequenz des Einmassenschwingers, wenn sich die Steifkeit erhöht (hohe Steifigkeit entspricht kurzer Bezugslänge $H$)? Vergleichen Sie diese Tendenz mit dem Einmassenschwinger."
      ]
    },
    {
      "cell_type": "markdown",
      "metadata": {},
      "source": [
        "Für große Bezugslängen nähert sich die Eigenfrequenz der des elastischen Stabs ohne äußere, verteilte Steifigkeit. Berechnen Sie die Periodendauer einer Eigenschwingung für geringe äußere Steifigkeit (großes $H$) und vergleichen Sie sie mit der Zeit, die eine Welle der Geschwindigkeit $c$ braucht um den Weg einer Pfahllänge ($L$) zurückzulegen."
      ]
    }
  ],
  "metadata": {
    "kernelspec": {
      "display_name": "Python 3 (ipykernel)",
      "language": "python",
      "name": "python3"
    },
    "language_info": {
      "codemirror_mode": {
        "name": "ipython",
        "version": 3
      },
      "file_extension": ".py",
      "mimetype": "text/x-python",
      "name": "python",
      "nbconvert_exporter": "python",
      "pygments_lexer": "ipython3",
      "version": "3.9.13"
    },
    "widgets": {
      "application/vnd.jupyter.widget-state+json": {
        "state": {},
        "version_major": 2,
        "version_minor": 0
      }
    }
  },
  "nbformat": 4,
  "nbformat_minor": 4
}