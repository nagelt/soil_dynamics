{
 "cells": [
  {
   "cell_type": "markdown",
   "metadata": {
    "deletable": false,
    "editable": false
   },
   "source": [
    "![Logo TUBAF](https://tu-freiberg.de/sites/default/files/media/freiberger-alumni-netzwerk-6127/wbm_orig_rgb_0.jpg)\n",
    "\n",
    "Exercise material of the MSc-level course **Soil Dynamics**.\n",
    "Held at Technische Universität Bergakademie Freiberg.\n",
    "\n",
    "Comments to:\n",
    "\n",
    "*Prof. Dr. Thomas Nagel  \n",
    "Chair of Soil Mechanics and Foundation Engineering  \n",
    "Geotechnical Institute  \n",
    "Technische Universität Bergakademie Freiberg.*\n",
    "\n",
    "https://tu-freiberg.de/en/soilmechanics\n"
   ]
  },
  {
   "cell_type": "markdown",
   "metadata": {},
   "source": [
    "# Pfahl unter zyklischer Last\n"
   ]
  },
  {
   "cell_type": "markdown",
   "metadata": {},
   "source": [
    "Module laden"
   ]
  },
  {
   "cell_type": "code",
   "execution_count": 9,
   "metadata": {},
   "outputs": [
    {
     "name": "stdout",
     "output_type": "stream",
     "text": [
      "The ipydex.displaytools extension is already loaded. To reload it, use:\n",
      "  %reload_ext ipydex.displaytools\n"
     ]
    }
   ],
   "source": [
    "import sympy as sp\n",
    "import numpy as np\n",
    "import matplotlib.pyplot as plt\n",
    "from ipywidgets import widgets\n",
    "from ipywidgets import interact\n",
    "from sympy.interactive import printing\n",
    "import plot_functions.plot_settings\n",
    "%run plot_functions/wave1d_pile_interaction.ipynb\n",
    "printing.init_printing()\n",
    "%load_ext ipydex.displaytools"
   ]
  },
  {
   "cell_type": "markdown",
   "metadata": {},
   "source": [
    "_Last line enables special comment **##:** for LaTeX formatting of output_ "
   ]
  },
  {
   "cell_type": "markdown",
   "metadata": {},
   "source": [
    "## Stationärer Zustand"
   ]
  },
  {
   "cell_type": "markdown",
   "metadata": {},
   "source": [
    "![wavebar_pile.png](https://github.com/nagelt/soil_dynamics/raw/master/Images/wavebar_pile.png)"
   ]
  },
  {
   "cell_type": "markdown",
   "metadata": {},
   "source": [
    "Variablen für symbolische Rechnung deklarieren (sympy)"
   ]
  },
  {
   "cell_type": "code",
   "execution_count": 10,
   "metadata": {},
   "outputs": [],
   "source": [
    "A, rho, E, kappa, omega, z, t, C1, C2, L, F, H = sp.symbols('A rho E kappa omega z t C1 C2 L F H')"
   ]
  },
  {
   "cell_type": "markdown",
   "metadata": {},
   "source": [
    "Hilfsfunktion um die Koeffizienten ($C_1$, $C_2$) aus den Randbedingungen (Kraftverlauf oben, unverschieblich unten) zu bestimmen"
   ]
  },
  {
   "cell_type": "code",
   "execution_count": 11,
   "metadata": {},
   "outputs": [],
   "source": [
    "def solveBC(f):\n",
    "    dfdz = f.diff(z)\n",
    "    BCtop = dfdz.subs(z, 0) + F/(E*A)\n",
    "    BCbottom = f.subs(z, L) \n",
    "    BCsol = sp.solve([BCtop, BCbottom], C1, C2)\n",
    "    return BCsol    "
   ]
  },
  {
   "cell_type": "markdown",
   "metadata": {},
   "source": [
    "Aus dem Ansatz $w(z,t)=f(z)sin(\\omega t)$ folgt für $f(z)$ in einem Fall der Diskriminante"
   ]
  },
  {
   "cell_type": "code",
   "execution_count": 12,
   "metadata": {
    "scrolled": true
   },
   "outputs": [],
   "source": [
    "alpha = sp.sqrt(1-(kappa*H)**2)\n",
    "fa = C1*sp.cosh(alpha*z/H) + C2*sp.sinh(alpha*z/H)   # hyperbolic functions"
   ]
  },
  {
   "cell_type": "markdown",
   "metadata": {},
   "source": [
    "Die unbestimmten Koeffizienten $C_1$ und $C_2$ folgen aus den Randbedingungen"
   ]
  },
  {
   "cell_type": "code",
   "execution_count": 13,
   "metadata": {},
   "outputs": [],
   "source": [
    "BCsol_a = solveBC(fa)"
   ]
  },
  {
   "cell_type": "markdown",
   "metadata": {},
   "source": [
    "Einsetzen in den ursprünglichen Ansatz"
   ]
  },
  {
   "cell_type": "code",
   "execution_count": 14,
   "metadata": {},
   "outputs": [
    {
     "data": {
      "image/png": "[encoded data removed]",
      "text/latex": [
       "$\\displaystyle \\frac{F H \\left(\\left(e^{\\frac{2 L \\sqrt{- H^{2} \\kappa^{2} + 1}}{H}} - 1\\right) \\cosh{\\left(\\frac{z \\sqrt{- H^{2} \\kappa^{2} + 1}}{H} \\right)} - \\left(e^{\\frac{2 L \\sqrt{- H^{2} \\kappa^{2} + 1}}{H}} + 1\\right) \\sinh{\\left(\\frac{z \\sqrt{- H^{2} \\kappa^{2} + 1}}{H} \\right)}\\right) \\sin{\\left(\\omega t \\right)}}{A E \\sqrt{- H^{2} \\kappa^{2} + 1} \\left(e^{\\frac{2 L \\sqrt{- H^{2} \\kappa^{2} + 1}}{H}} + 1\\right)}$"
      ],
      "text/plain": [
       "    ⎛⎛        _____________    ⎞                            ⎛        _________\n",
       "    ⎜⎜       ╱    2  2         ⎟                            ⎜       ╱    2  2 \n",
       "    ⎜⎜ 2⋅L⋅╲╱  - H ⋅κ  + 1     ⎟     ⎛     _____________⎞   ⎜ 2⋅L⋅╲╱  - H ⋅κ  \n",
       "    ⎜⎜ ────────────────────    ⎟     ⎜    ╱    2  2     ⎟   ⎜ ────────────────\n",
       "    ⎜⎜          H              ⎟     ⎜z⋅╲╱  - H ⋅κ  + 1 ⎟   ⎜          H      \n",
       "F⋅H⋅⎜⎝ℯ                     - 1⎠⋅cosh⎜──────────────────⎟ - ⎝ℯ                \n",
       "    ⎝                                ⎝        H         ⎠                     \n",
       "──────────────────────────────────────────────────────────────────────────────\n",
       "                                                          ⎛        ___________\n",
       "                                                          ⎜       ╱    2  2   \n",
       "                                                          ⎜ 2⋅L⋅╲╱  - H ⋅κ  + \n",
       "                                            _____________ ⎜ ──────────────────\n",
       "                                           ╱    2  2      ⎜          H        \n",
       "                                     A⋅E⋅╲╱  - H ⋅κ  + 1 ⋅⎝ℯ                  \n",
       "\n",
       "____    ⎞                         ⎞         \n",
       "        ⎟                         ⎟         \n",
       "+ 1     ⎟     ⎛     _____________⎞⎟         \n",
       "────    ⎟     ⎜    ╱    2  2     ⎟⎟         \n",
       "        ⎟     ⎜z⋅╲╱  - H ⋅κ  + 1 ⎟⎟         \n",
       "     + 1⎠⋅sinh⎜──────────────────⎟⎟⋅sin(ω⋅t)\n",
       "              ⎝        H         ⎠⎠         \n",
       "────────────────────────────────────────────\n",
       "__    ⎞                                     \n",
       "      ⎟                                     \n",
       "1     ⎟                                     \n",
       "──    ⎟                                     \n",
       "      ⎟                                     \n",
       "   + 1⎠                                     "
      ]
     },
     "metadata": {},
     "output_type": "display_data"
    }
   ],
   "source": [
    "fasol = fa.subs([(C1, BCsol_a[C1]), (C2, BCsol_a[C2])])\n",
    "wasol = sp.simplify(fasol*sp.sin(omega*t))\n",
    "display(wasol)\n",
    "#print(wasol)   # for safety if display fails"
   ]
  },
  {
   "cell_type": "markdown",
   "metadata": {},
   "source": [
    "Jetzt noch mal das gleiche für den anderen Fall der Diskriminante um reell zu bleiben (*alternativ total komplex*)"
   ]
  },
  {
   "cell_type": "code",
   "execution_count": 15,
   "metadata": {},
   "outputs": [
    {
     "data": {
      "image/png": "[encoded data removed]",
      "text/latex": [
       "$\\displaystyle \\frac{F H \\sin{\\left(\\omega t \\right)} \\sin{\\left(\\frac{\\left(L - z\\right) \\sqrt{H^{2} \\kappa^{2} - 1}}{H} \\right)}}{A E \\sqrt{H^{2} \\kappa^{2} - 1} \\cos{\\left(\\frac{L \\sqrt{H^{2} \\kappa^{2} - 1}}{H} \\right)}}$"
      ],
      "text/plain": [
       "                ⎛           ___________⎞\n",
       "                ⎜          ╱  2  2     ⎟\n",
       "                ⎜(L - z)⋅╲╱  H ⋅κ  - 1 ⎟\n",
       "F⋅H⋅sin(ω⋅t)⋅sin⎜──────────────────────⎟\n",
       "                ⎝          H           ⎠\n",
       "────────────────────────────────────────\n",
       "                      ⎛     ___________⎞\n",
       "       ___________    ⎜    ╱  2  2     ⎟\n",
       "      ╱  2  2         ⎜L⋅╲╱  H ⋅κ  - 1 ⎟\n",
       "A⋅E⋅╲╱  H ⋅κ  - 1 ⋅cos⎜────────────────⎟\n",
       "                      ⎝       H        ⎠"
      ]
     },
     "metadata": {},
     "output_type": "display_data"
    }
   ],
   "source": [
    "beta = sp.sqrt(-1+(kappa*H)**2)\n",
    "fb = C1*sp.cos(beta*z/H) + C2*sp.sin(beta*z/H)    # trigonometric functions\n",
    "BCsol_b = solveBC(fb)\n",
    "fbsol = fb.subs([(C1, BCsol_b[C1]), (C2, BCsol_b[C2])])\n",
    "wbsol = sp.simplify(fbsol*sp.sin(omega*t))\n",
    "display(wbsol)\n",
    "#print(wbsol)   # for safety if display fails"
   ]
  },
  {
   "cell_type": "code",
   "execution_count": 16,
   "metadata": {},
   "outputs": [
    {
     "data": {
      "application/vnd.jupyter.widget-view+json": {
       "model_id": "685d3f4dd3ad4240b0687845b964a10b",
       "version_major": 2,
       "version_minor": 0
      },
      "text/plain": [
       "interactive(children=(IntSlider(value=5, description='$f$ [Hz]:', max=101, min=1, step=5), IntSlider(value=101…"
      ]
     },
     "metadata": {},
     "output_type": "display_data"
    }
   ],
   "source": [
    "interactive_pile_plot()   "
   ]
  },
  {
   "cell_type": "markdown",
   "metadata": {},
   "source": [
    "Wie ändert sich die Eigenfrequenz des Einmassenschwingers, wenn sich die Steifkeit erhöht (hohe Steifigkeit entspricht kurzer Bezugslänge $H$)? Vergleichen Sie diese Tendenz mit dem Einmassenschwinger."
   ]
  },
  {
   "cell_type": "markdown",
   "metadata": {},
   "source": [
    "Für große Bezugslängen nähert sich die Eigenfrequenz der des elastischen Stabs ohne äußere, verteilte Steifigkeit. Berechnen Sie die Periodendauer einer Eigenschwingung für geringe äußere Steifigkeit (großes $H$) und vergleichen Sie sie mit der Zeit, die eine Welle der Geschwindigkeit $c$ braucht um den Weg einer Pfahllänge ($L$) zurückzulegen."
   ]
  }
 ],
 "metadata": {
  "kernelspec": {
   "display_name": "Python 3",
   "language": "python",
   "name": "python3"
  },
  "language_info": {
   "codemirror_mode": {
    "name": "ipython",
    "version": 3
   },
   "file_extension": ".py",
   "mimetype": "text/x-python",
   "name": "python",
   "nbconvert_exporter": "python",
   "pygments_lexer": "ipython3",
   "version": "3.8.10"
  }
 },
 "nbformat": 4,
 "nbformat_minor": 4
}
