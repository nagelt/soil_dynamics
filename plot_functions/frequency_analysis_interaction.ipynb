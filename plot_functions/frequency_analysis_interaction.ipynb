{
  "cells": [
    {
      "cell_type": "code",
      "execution_count": null,
      "id": "e760d6a5",
      "metadata": {},
      "outputs": [],
      "source": [
        "def generate_time_signal_and_compute_frequency_spectrum():\n",
        "    A1 = np.abs(np.random.rand()) + 0.1\n",
        "    f1 = np.abs(np.random.rand()) + 0.01\n",
        "    w1 = 2*np.pi*f1\n",
        "    A2 = np.abs(np.random.rand()) + 0.1\n",
        "    f2 = np.abs(np.random.rand()) + 0.01\n",
        "    w2 = 2*np.pi*f2\n",
        "    N = 2**10\n",
        "    fmax = max(f1, f2)\n",
        "\n",
        "    time = (1/fmax)*np.linspace(0, 25, N)\n",
        "    u = A1*np.sin(w1*time) + A2*np.cos(w2*time)\n",
        "    U = (2/N)*np.fft.fft(u)\n",
        "    freq = np.fft.fftfreq(time.shape[-1])\n",
        "    NN = int(np.floor(N/32))\n",
        "\n",
        "    return(time,u, freq,U, NN)"
      ]
    },
    {
      "cell_type": "code",
      "execution_count": null,
      "id": "896821f8",
      "metadata": {},
      "outputs": [],
      "source": [
        "def interactive_signal_spectrum_plot():\n",
        "    button = widgets.Button(description=r\"generate example\")\n",
        "    display(button)\n",
        "    output = widgets.Output()\n",
        "    display(output)    \n",
        "    \n",
        "    def plot_signal_spectrum():\n",
        "        time, ut, freq,Uf, NN = generate_time_signal_and_compute_frequency_spectrum();\n",
        "        #fig, (ax1,ax2) = plt.subplots(1,2)\n",
        "        fig, ax = plt.subplots(2)\n",
        "        ax[0].plot(time, ut, 'k')\n",
        "        ax[0].set_xlabel(r\"$t$ [s]\")\n",
        "        ax[0].set_ylabel(r\"$u$ [m]\")\n",
        "        ax[1].stem(freq[0:NN], np.abs(Uf[0:NN]),'k', markerfmt='ko', basefmt='k-');\n",
        "        ax[1].set_xlabel(r\"$f$ [Hz]\")\n",
        "        ax[1].set_ylabel(r\"$\\hat{u}$ [m]\")\n",
        "        plt.show()\n",
        "    \n",
        "    with output:\n",
        "        plot_signal_spectrum();\n",
        "    \n",
        "    #time, ut, freq,Uf, NN = generate_time_signal_and_compute_frequency_spectrum();\n",
        "    \n",
        "    def on_button_clicked(b):\n",
        "        with output:\n",
        "            output.clear_output();\n",
        "            \n",
        "            #\n",
        "            #ax.plot(time, ut+1);\n",
        "            #plt.\n",
        "            plot_signal_spectrum();\n",
        "            \n",
        "           \n",
        "    button.on_click(on_button_clicked)\n",
        "    "
      ]
    }
  ],
  "metadata": {
    "kernelspec": {
      "display_name": "Python 3 (ipykernel)",
      "language": "python",
      "name": "python3"
    },
    "language_info": {
      "codemirror_mode": {
        "name": "ipython",
        "version": 3
      },
      "file_extension": ".py",
      "mimetype": "text/x-python",
      "name": "python",
      "nbconvert_exporter": "python",
      "pygments_lexer": "ipython3",
      "version": "3.10.12"
    }
  },
  "nbformat": 4,
  "nbformat_minor": 5
}