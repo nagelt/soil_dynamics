{
  "cells": [
    {
      "cell_type": "code",
      "execution_count": 2,
      "metadata": {},
      "outputs": [],
      "source": [
        "def interactive_reflection_plot():\n",
        "    @interact(i_alpha = widgets.IntSlider(min=0, max=90, value=45, step=1, description=r'$\\alpha$ [°]:'),\n",
        "              i_nu = widgets.IntSlider(min=0, max=49, value=25, step=1, description=r'$\\nu$: [%]')\n",
        "             )\n",
        "\n",
        "    def plot_now(i_alpha, i_nu):   # interactive parameter: relative delta x shift\n",
        "        alpha = i_alpha*np.pi/180\n",
        "        nu = i_nu/100\n",
        "        K = np.sqrt(2*(1-nu)/(1-2*nu))\n",
        "        beta = np.arcsin(np.sin(alpha)/K)\n",
        "        denom =  ((K*np.cos(2*beta))**2) + np.sin(2*alpha)*np.sin(2*beta) \n",
        "        AP =  -(np.sin(2*alpha)*np.sin(2*beta) - (K*np.cos(2*beta))**2) / denom \n",
        "        AS =   2*K*np.sin(2*alpha)*np.cos(2*beta) / denom \n",
        "        \n",
        "        pin_x = np.sin(alpha)\n",
        "        pin_y = np.cos(alpha)\n",
        "        pre_x = np.sin(alpha)\n",
        "        pre_y =-np.cos(alpha)\n",
        "        sre_x = np.sin(beta)\n",
        "        sre_y =-np.cos(beta)\n",
        "        \n",
        "        cP = max(1-np.abs(AP), 0.0)   # enforce positive color codes\n",
        "        cS = max(1-np.abs(AS), 0.0)   # enforce positive color codes\n",
        "        sa = 0.9   # scale arrow, as arrow head gets added\n",
        "        plt.plot ([-1, 1], [0, 0],'k', [0, 0], [-1, 1],'k--')\n",
        "        plt.text(-0.8, 0.125, \"AP={:+.2f}\".format(1.0))\n",
        "        plt.text( 0.4, 0.20, \"AP={:+.2f}\".format(AP))\n",
        "        plt.text( 0.4, 0.05, \"AS={:+.2f}\".format(AS))\n",
        "        plt.arrow(-pin_x, -pin_y, sa*pin_x, sa*pin_y, head_width=0.05, head_length=0.08, fc='r', ec='r')\n",
        "        plt.arrow( 0,      0,     sa*pre_x, sa*pre_y, head_width=0.05, head_length=0.08, fc=[1,cP,cP], ec=[1,cP,cP])\n",
        "        plt.arrow( 0,      0,     sa*sre_x, sa*sre_y, head_width=0.05, head_length=0.08, fc=[cS,1,cS], ec=[cS,1,cS])       \n",
        "        plt.axis('off')\n",
        "        plt.gca().set_aspect('equal')\n",
        "        plt.show()"
      ]
    },
    {
      "cell_type": "code",
      "execution_count": null,
      "metadata": {},
      "outputs": [],
      "source": []
    }
  ],
  "metadata": {
    "kernelspec": {
      "display_name": "Python 3 (ipykernel)",
      "language": "python",
      "name": "python3"
    },
    "language_info": {
      "codemirror_mode": {
        "name": "ipython",
        "version": 3
      },
      "file_extension": ".py",
      "mimetype": "text/x-python",
      "name": "python",
      "nbconvert_exporter": "python",
      "pygments_lexer": "ipython3",
      "version": "3.8.10"
    }
  },
  "nbformat": 4,
  "nbformat_minor": 4
}