{
 "cells": [
  {
   "cell_type": "code",
   "execution_count": 2,
   "metadata": {},
   "outputs": [],
   "source": [
    "def interactive_transition_conditions_plot():\n",
    "    @interact(i_m=widgets.IntSlider(min=0, max=500, value=0, step=10, description='$m/m_\\mathrm{ref}$:'),\n",
    "              i_c=widgets.IntSlider(min=0, max=500, value=0, step=10, description='$c/c_\\mathrm{ref}$:'),\n",
    "              i_k=widgets.IntSlider(min=0, max=500, value=0, step=10, description='$k/k_\\mathrm{ref}$:'),\n",
    "              i_omega=widgets.IntSlider(min=10, max=510, value=250, step=10, description='$\\omega/\\omega_\\mathrm{ref}$:')\n",
    "             )\n",
    "\n",
    "    def plot_now(i_m, i_c, i_k, i_omega):\n",
    "        # mechanical engineers like steel, TODO soil or nondimensional\n",
    "        E = 210e9   \n",
    "        A = 0.01**2\n",
    "        rho = 7650\n",
    "        C = 1e-3   # complex amplitude of incident wave\n",
    "        \n",
    "        EA = E*A\n",
    "        cc = np.sqrt(E/rho)   # phase velocity\n",
    "        # refer to continuum per unit length, TODO expressive nondimensional parameters \n",
    "        omega = (i_omega/250)*cc\n",
    "        m_ref = rho*A\n",
    "        c_ref = EA/omega\n",
    "        k_ref = EA\n",
    "        \n",
    "        m = i_m*m_ref/10\n",
    "        c = i_c*c_ref/10\n",
    "        k = i_k*k_ref/10\n",
    "        \n",
    "        kappa = omega/cc   # wave number\n",
    "        wavelength = 2*np.pi/kappa\n",
    "        \n",
    "        # see main script for analytical solution (sympy)\n",
    "        common_denominator = 2j*EA*kappa + 1j*c*omega - k + m*omega**2\n",
    "        cT = 2j*EA*kappa/common_denominator          \n",
    "        cR = (-1j*c*omega + k - m*omega**2)/common_denominator\n",
    "                                    \n",
    "        z_left = np.linspace(-1.5*wavelength, 0)\n",
    "        z_right = np.linspace(0, 1.5*wavelength)   \n",
    "        w_incident =  np.real(C*np.exp(+1j*kappa*z_left))  \n",
    "        w_reflected =  np.real(cR*C*np.exp(-1j*kappa*z_left))  \n",
    "        w_transmitted =  np.real(cT*C*np.exp(+1j*kappa*z_right))  \n",
    "        \n",
    "        plt.plot(z_left, w_incident, z_left, w_reflected, z_right, w_transmitted);\n",
    "        plt.xlabel(\"$z$\")   # t=0\n",
    "        plt.ylabel(\"$w$\")\n",
    "        plt.show()"
   ]
  },
  {
   "cell_type": "code",
   "execution_count": null,
   "metadata": {},
   "outputs": [],
   "source": []
  }
 ],
 "metadata": {
  "kernelspec": {
   "display_name": "Python 3",
   "language": "python",
   "name": "python3"
  },
  "language_info": {
   "codemirror_mode": {
    "name": "ipython",
    "version": 3
   },
   "file_extension": ".py",
   "mimetype": "text/x-python",
   "name": "python",
   "nbconvert_exporter": "python",
   "pygments_lexer": "ipython3",
   "version": "3.8.5"
  }
 },
 "nbformat": 4,
 "nbformat_minor": 4
}
