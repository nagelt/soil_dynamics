{
  "cells": [
    {
      "cell_type": "code",
      "execution_count": 1,
      "metadata": {},
      "outputs": [],
      "source": [
        "def resonant_column_plot():\n",
        "    @interact(i_M = widgets.IntSlider(min=1, max=301, value=101, step=10, description=r'$M$ [%]:')\n",
        "             )\n",
        "\n",
        "    def plot_now(i_M):   # interactive parameter: relative delta x shift\n",
        "        M=i_M/100  \n",
        "        \n",
        "        SMALL_NUM = 1e-6 # numerical_zero for plot (let neither 1/x nor tan(x) go to infinity)\n",
        "        x  = np.linspace(SMALL_NUM, (1/2)*np.pi-SMALL_NUM)\n",
        "        xx = np.linspace((1/2)*np.pi+SMALL_NUM, (3/2)*np.pi-SMALL_NUM)\n",
        "        f1 = lambda X: M/X   # left-hand side\n",
        "        f2 = lambda X: np.tan(X)   # right-hand side\n",
        "        fun = lambda X: f1(X) - f2(X)\n",
        "        x_guess = np.pi/4\n",
        "        x_sol = fsolve(fun, x_guess)\n",
        "        \n",
        "        plt.plot(x, f1(x), 'r', x, f2(x), 'g', xx, f1(xx), 'r', xx, f2(xx), 'g:')\n",
        "        plt.ylim((0, 10))\n",
        "        plt.xlabel(r\"$X$\")\n",
        "        plt.legend([\"$M/X$\", \"$\\tan X$\"])\n",
        "        plt.annotate(r\"$X_1$={:8.4f}\".format(x_sol[0]), (x_sol+0.2, f1(x_sol)))\n",
        "        \n",
        "        xtick_marks = [0, 0.5*np.pi, 1.0*np.pi, 1.5*np.pi, np.sqrt(M)]\n",
        "        xtick_labels = ['$0$', '$\\dfrac{1}{2}\\pi$', '$\\pi$', '$\\dfrac{3}{2}\\pi$', '$\\sqrt{M}$']\n",
        "        ax = plt.gca()\n",
        "        ax.set_xticks(xtick_marks)\n",
        "        ax.set_xticklabels(xtick_labels)\n",
        "        plt.show()\n",
        "        "
      ]
    }
  ],
  "metadata": {
    "kernelspec": {
      "display_name": "Python 3 (ipykernel)",
      "language": "python",
      "name": "python3"
    },
    "language_info": {
      "codemirror_mode": {
        "name": "ipython",
        "version": 3
      },
      "file_extension": ".py",
      "mimetype": "text/x-python",
      "name": "python",
      "nbconvert_exporter": "python",
      "pygments_lexer": "ipython3",
      "version": "3.8.10"
    }
  },
  "nbformat": 4,
  "nbformat_minor": 4
}