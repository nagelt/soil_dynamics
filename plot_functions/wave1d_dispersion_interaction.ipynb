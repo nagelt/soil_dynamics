{
  "cells": [
    {
      "cell_type": "code",
      "execution_count": 2,
      "metadata": {},
      "outputs": [],
      "source": [
        "def interactive_beating_plot():\n",
        "    @interact(i_rdx=widgets.IntSlider(min=0, max=100, value=0, step=10, description=r'$\\Delta z/\\lambda_1$ [%]:')\n",
        "             )\n",
        "\n",
        "    def plot_now(i_rdx):   # interactive parameter: relative delta x shift\n",
        "        kappa1 = 1.0  # smaller wavenumber (longer wavelength) is faster (normal dispersion)\n",
        "        wl1 = 2*np.pi/kappa1  # wave length\n",
        "        kappa2 = 1.2  # second wave\n",
        "        wave_length = 2*np.pi/np.abs(kappa1-kappa2)\n",
        "        x = np.linspace(0.0*wave_length, 2.0*wave_length, 250)  # spatial grid\n",
        "        s1 = np.sin(kappa1*x)\n",
        "        s2 = np.sin(kappa2*x)\n",
        "        sh = np.abs(2*np.cos(0.5*(kappa2-kappa1)*x))  # envelope\n",
        "\n",
        "        dx = (i_rdx/100)*wl1 # spatial shift refers to wavelength\n",
        "        s1shift = np.sin(kappa1*x-dx)  # dx describes relative motion of fast wave to slow wave\n",
        "        shshift = np.abs(2*np.cos(0.5*(kappa2-kappa1)*x+dx/2)) # envelopes shifts in the opposite direction\n",
        "        plt.plot(x, sh, ':', color='0.8')\n",
        "        plt.plot(x, s1shift, 'r', x, s2, 'b', x, s1shift+s2, 'k', x, shshift, 'k:')   # motivation behind colors: red light is faster than blue\n",
        "        plt.xlabel(r'z')\n",
        "        plt.show()"
      ]
    },
    {
      "cell_type": "code",
      "execution_count": null,
      "metadata": {},
      "outputs": [],
      "source": []
    }
  ],
  "metadata": {
    "kernelspec": {
      "display_name": "Python 3 (ipykernel)",
      "language": "python",
      "name": "python3"
    },
    "language_info": {
      "codemirror_mode": {
        "name": "ipython",
        "version": 3
      },
      "file_extension": ".py",
      "mimetype": "text/x-python",
      "name": "python",
      "nbconvert_exporter": "python",
      "pygments_lexer": "ipython3",
      "version": "3.8.10"
    }
  },
  "nbformat": 4,
  "nbformat_minor": 4
}