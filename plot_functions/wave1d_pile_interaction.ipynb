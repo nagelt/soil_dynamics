{
  "cells": [
    {
      "cell_type": "code",
      "execution_count": 2,
      "metadata": {},
      "outputs": [],
      "source": [
        "def interactive_pile_plot():\n",
        "    @interact(i_f=widgets.IntSlider(min=1, max=101, value=5, step=5, description=r'$f$ [Hz]:'),\n",
        "              i_H=widgets.IntSlider(min=1, max=201, value=101, step=10, description=r'$H/L$ [%]:'),\n",
        "              i_t=widgets.IntSlider(min=0, max=100, value=25, step=5, description=r'$t/T$ [%]:')\n",
        "             )\n",
        "\n",
        "    def plot_now(i_f, i_H, i_t):\n",
        "        # TODO nondimensional H/L, t/T0\n",
        "        L_n = 10.0\n",
        "        F_n = 20e3\n",
        "        A_n = np.pi*0.2**2\n",
        "        rho_n = 2500.0\n",
        "        E_n = 25e9\n",
        "        c_n = np.sqrt(E_n/rho_n)\n",
        "        f_n = i_f\n",
        "        if f_n > 0:\n",
        "            T_n = 1/i_f\n",
        "        else:\n",
        "            T_n = 0\n",
        "        omega_n = 2*np.pi*f_n \n",
        "        kappa_n = omega_n/c_n\n",
        "        H_n = (i_H/100.0)*L_n\n",
        "        t_n = (i_t/100.0)*T_n        \n",
        "        example = [ (A, A_n), (rho, rho_n), (E, E_n), (omega, omega_n), (kappa, kappa_n), (F, F_n), (L, L_n), (H, H_n)] \n",
        "\n",
        "        discriminant = (kappa_n*H_n)**2 - 1.0\n",
        "        if discriminant > 0:\n",
        "            w_example = sp.lambdify((z, t), wbsol.subs(example), modules='numpy' )    # beta\n",
        "        else: \n",
        "            w_example = sp.lambdify((z, t), wasol.subs(example), modules='numpy' )    # alpha\n",
        "        \n",
        "        omega_0 = np.sqrt( (((H_n/L_n)*(1*np.pi/2))**2 + 1) * (c_n/H_n)**2 )\n",
        "        print(\"eigenfrequency f0(H)={}\".format(omega_0/(2.0*np.pi)))\n",
        "        omega_1 = np.sqrt( (((H_n/L_n)*(3*np.pi/2))**2 + 1) * (c_n/H_n)**2 )\n",
        "        print(\"eigenfrequency f1(H)={}\".format(omega_1/(2.0*np.pi)))\n",
        "        omega_2 = np.sqrt( (((H_n/L_n)*(5*np.pi/2))**2 + 1) * (c_n/H_n)**2 )\n",
        "        print(\"eigenfrequency f2(H)={}\".format(omega_2/(2.0*np.pi)))\n",
        "        \n",
        "        w_static = (F_n/(E_n*A_n/L_n))/np.tanh(1.0)\n",
        "        w_max_plot = 10*w_static\n",
        "        w_min_plot =-w_max_plot\n",
        "        \n",
        "        z_n = np.linspace(0, L_n)\n",
        "        w_n = w_example(z_n, t_n)\n",
        "        \n",
        "        plt.plot(-z_n, w_n)\n",
        "        plt.xlabel(r'$z$')\n",
        "        plt.ylabel(r'$w$')\n",
        "        plt.ylim((w_min_plot, w_max_plot))\n",
        "        plt.show()\n",
        "        "
      ]
    },
    {
      "cell_type": "code",
      "execution_count": null,
      "metadata": {},
      "outputs": [],
      "source": []
    }
  ],
  "metadata": {
    "kernelspec": {
      "display_name": "Python 3",
      "language": "python",
      "name": "python3"
    },
    "language_info": {
      "codemirror_mode": {
        "name": "ipython",
        "version": 3
      },
      "file_extension": ".py",
      "mimetype": "text/x-python",
      "name": "python",
      "nbconvert_exporter": "python",
      "pygments_lexer": "ipython3",
      "version": "3.8.5"
    }
  },
  "nbformat": 4,
  "nbformat_minor": 4
}