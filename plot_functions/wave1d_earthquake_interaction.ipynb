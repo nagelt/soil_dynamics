{
 "cells": [
  {
   "cell_type": "code",
   "execution_count": 2,
   "metadata": {},
   "outputs": [],
   "source": [
    "def interactive_earthquake_plot():\n",
    "    @interact(i_t=widgets.IntSlider(min=0, max=100, value=25, step=25, description='$t/T$: [%]'),\n",
    "              i_f=widgets.IntSlider(min=5, max=100, value=50, step=5, description='$f$ [dHz]:'),\n",
    "              i_d=widgets.IntSlider(min=0, max=100, value=0, step=10, description='$d/h$: [%]')\n",
    "             )\n",
    "\n",
    "    def plot_now(i_t, i_f, i_d):\n",
    "        # example\n",
    "        CENT = 100  # for perCENT\n",
    "        c_n = 150.0   \n",
    "        f_n = i_f/10.0\n",
    "        omega_n = 2*np.pi*f_n \n",
    "        T_n = 1/f_n\n",
    "        kappa_n = omega_n/c_n\n",
    "        c2_n = 3000.0\n",
    "        kappa2_n = omega_n/c2_n\n",
    "        L_n = 2*np.pi/kappa2_n\n",
    "        h_n = 10.0\n",
    "        d_n = (i_d/CENT)*h_n \n",
    "        u0_n = 0.1\n",
    "        \n",
    "        # find lower eigenfrequencies\n",
    "        ch_eq = lambda xx: (d_n/h_n)*xx - 1/np.tan(xx)\n",
    "        x_guess = (np.pi/2)*(1-np.tanh(d_n/h_n))   # 0...pi/2\n",
    "        x_num = fsolve(ch_eq, x_guess)\n",
    "        omega_0 = x_num[0]*c_n/h_n\n",
    "        print(\"Eigenfrequency f0(d)={} dHz\".format(10*omega_0/(2*np.pi)))\n",
    "        x_guess = np.pi + (np.pi/2)*(1-np.tanh(2*d_n/h_n))   # pi...3pi/2\n",
    "        x_num = fsolve(ch_eq, x_guess)\n",
    "        omega_1 = x_num[0]*c_n/h_n\n",
    "        print(\"Eigenfrequency f1(d)={} dHz\".format(10*omega_1/(2*np.pi)))\n",
    "        x_guess = 2*np.pi + (np.pi/2)*(1-np.tanh(3*d_n/h_n))   # 2pi...5pi/2\n",
    "        x_num = fsolve(ch_eq, x_guess)\n",
    "        omega_2 = x_num[0]*c_n/h_n\n",
    "        print(\"Eigenfrequency f2(d)={} dHz\".format(10*omega_2/(2*np.pi)))\n",
    "        \n",
    "        \n",
    "        example = [ (omega, omega_n), (kappa, kappa_n), (kappa2, kappa2_n), (h, h_n), (d, d_n), (u0, u0_n) ]\n",
    "        w_example = sp.lambdify((x, z, t), wsol.subs(example), modules='numpy' )\n",
    "        \n",
    "        N = 50\n",
    "        z_n = np.linspace(0, h_n, N)\n",
    "        t_n = (i_t/CENT)*T_n\n",
    "        scale_factor=(L_n/u0_n)*5e-3\n",
    "        \n",
    "        Columns = 10\n",
    "        for C in np.arange(Columns+1):\n",
    "            X = (C/Columns)*L_n\n",
    "            w_n = w_example(X, z_n, t_n)*scale_factor     \n",
    "            plt.plot([X, X], [0, -h_n], 'k--', X+w_n, -z_n, 'k')\n",
    "        \n",
    "        plt.xlabel('$x$')\n",
    "        plt.ylabel('$z$')\n",
    "        plt.show()\n",
    "        "
   ]
  },
  {
   "cell_type": "code",
   "execution_count": null,
   "metadata": {},
   "outputs": [],
   "source": []
  }
 ],
 "metadata": {
  "kernelspec": {
   "display_name": "Python 3",
   "language": "python",
   "name": "python3"
  },
  "language_info": {
   "codemirror_mode": {
    "name": "ipython",
    "version": 3
   },
   "file_extension": ".py",
   "mimetype": "text/x-python",
   "name": "python",
   "nbconvert_exporter": "python",
   "pygments_lexer": "ipython3",
   "version": "3.8.5"
  }
 },
 "nbformat": 4,
 "nbformat_minor": 4
}
