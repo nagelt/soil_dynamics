{
  "cells": [
    {
      "cell_type": "markdown",
      "id": "ed69d213",
      "metadata": {},
      "source": [
        "# Biot oscillations\n",
        "Supplementary material to _The essence of Biot waves in an oscillator with two degrees of freedom_ by [Dominik Kern](https://orcid.org/0000-0002-1958-2982) and [Thomas Nagel](https://orcid.org/0000-0001-8459-4616), 2024."
      ]
    },
    {
      "cell_type": "code",
      "execution_count": 1,
      "id": "b1f94559",
      "metadata": {},
      "outputs": [],
      "source": [
        "import numpy as np\n",
        "import sympy as sp\n",
        "import matplotlib.pyplot as plt\n",
        "from scipy.optimize import fsolve\n",
        "#import tikzplotlib   # time-consuming, enable only when needed to generate plots for the paper"
      ]
    },
    {
      "cell_type": "markdown",
      "id": "93ed51d1",
      "metadata": {},
      "source": [
        "Spatial discretization by the mode shape ($k$th mode) of an elastic bar and the assumption that the fluid moves proportional to the solid\n",
        "\\begin{align}\n",
        "u_\\text{f}(t,x) &= U_\\text{f}(t)\\sin\\biggl(\\Bigl(k+ \\frac{1}{2}\\Bigr)\\pi x \\biggr), \\\n",
        "u_\\text{s}(t,x) &= U_\\text{s}(t)\\sin\\biggl(\\Bigl(k+ \\frac{1}{2}\\Bigr)\\pi x \\biggr), \n",
        "\\end{align}\n",
        "corresponding to a bar of unit-length with boundary conditions fixed-symmetric for S-waves (one half of a fixed-fixed bar) or fixed-free for P-waves.\n",
        "Temporal discretization (exponential ansatz with $\\hat{U}_\\text{f}$, $\\hat{U}_\\text{s}$, $\\delta\\in\\mathbb{C}$), such that coefficients in characteristic equation remain in real domain ($a_i\\in\\mathbb{R}$)\n",
        "\\begin{align}\n",
        "U_\\text{f}(t) &= \\hat{U}_\\text{f}\\, e^{\\delta t}, \\\n",
        "U_\\text{s}(t) &=  \\hat{U}_\\text{s}\\, e^{\\delta t}.\n",
        "\\end{align}\n",
        "\n",
        "Note that the real part of the coefficient $\\mathfrak{R}\\{\\delta\\}$ describes decay and the imaginary part $\\mathfrak{I}\\{\\delta\\}$ oscillation.\n",
        "\n",
        "The original equations are related to domain length $L$ and reference time $T=L\\sqrt{m_\\text{v} \\rho_\\text{s}}$ to make them non-dimensional, note $c_\\mathrm{P}^\\mathrm{el}=\\frac{1}{\\sqrt{m_\\text{v} \\rho_\\text{s}}}$."
      ]
    },
    {
      "cell_type": "markdown",
      "id": "fb9700fc",
      "metadata": {},
      "source": [
        "## Parameters\n",
        "The continuum parameters are\n",
        "- $L$ domain length [m],\n",
        "- $\\varrho_\\text{f}$ fluid density [kg m$^{-3}$],\n",
        "- $\\varrho_\\text{s}$ solid density [kg m$^{-3}$],\n",
        "- $m_\\text{v}$ one-dimensional soil compressibility (inverse P-wave modulus) [Pa$^{-1}$],\n",
        "- $G$ shear modulus (bulk) [Pa],\n",
        "- $S_\\text{p}$ storativity [Pa$^{-1}$],\n",
        "- $\\mu$ viscosity [Pa s],\n",
        "- $\\kappa$ permeability [m$^2$],\n",
        "- $\\alpha$ Biot coefficient,\n",
        "- $n$ porosity,\n",
        "- $\\tau$ tortuosity factor."
      ]
    },
    {
      "cell_type": "markdown",
      "id": "597c7d09",
      "metadata": {},
      "source": [
        "Declare variables for dimensional and non-dimensional parameters (symbolic computations)"
      ]
    },
    {
      "cell_type": "code",
      "execution_count": 2,
      "id": "5c29b39e",
      "metadata": {},
      "outputs": [],
      "source": [
        "L, G, m_v, n, S, alpha, kappa, mu, rho_f, rho_s, tau = sp.symbols('L G m_v n S alpha kappa mu rho_f rho_s tau') \n",
        "I_11, I_12, I_22, M, D_P, D_S, RHO, x, k, g = sp.symbols('I_11 I_12 I_22 M D_P D_S RHO x k g') "
      ]
    },
    {
      "cell_type": "markdown",
      "id": "ff620c9d",
      "metadata": {},
      "source": [
        "Example of some soil [Verruijt2010: table 5.1], except $\\tau\\ne 0$ to check the influence of tortuosity and bulk compressibility $m_\\text{v}<S_\\text{}p$ to make frequency dependency visible. A Poisson ratio $\\nu=0.2$ is assumed to derive the shear modulus from the bulk modulus (for S-waves)."
      ]
    },
    {
      "cell_type": "code",
      "execution_count": 3,
      "id": "e1c85085",
      "metadata": {},
      "outputs": [],
      "source": [
        "rho_s_num = 2650\n",
        "rho_f_num = 1000\n",
        "kappa_num = 1e-10   # note, Verruijt lists hydraulic conductivity k=0.001 m/s\n",
        "n_num = 0.4\n",
        "tau_num = 0.1   # different from Verruijt's example (tau=0)\n",
        "alpha_num = 1.0\n",
        "m_v_num = 2e-9   # different from Verruijt's example (mb_v=2e-10)\n",
        "S_num = n_num*5e-10 + (alpha_num-n_num)*0   # S_p = n*C_f + (alpha-n)*C_s\n",
        "mu_num = 1e-3\n",
        "\n",
        "nu_num = 0.2   # Poisson ratio\n",
        "G_num = (1/m_v_num)*(1-2*nu_num)/(2*(1-nu_num))   # shear modulus"
      ]
    },
    {
      "cell_type": "markdown",
      "id": "b542af2c",
      "metadata": {},
      "source": [
        "Bar length, plausible values are some meters"
      ]
    },
    {
      "cell_type": "code",
      "execution_count": 4,
      "id": "0b30c2a3",
      "metadata": {},
      "outputs": [],
      "source": [
        "L_num = 20    # influences eigenfrequency range, set to center it around f_crit"
      ]
    },
    {
      "cell_type": "markdown",
      "id": "0de6e1b6",
      "metadata": {},
      "source": [
        "Weight function integrals $I_{ij} = \\int_0^1 \\tilde{w}_i(x)\\tilde{w}_j(x)\\,\\text{d}x$ as they occur in Galerkin's method (introduce separate values to indicate where different weight functions would enter, although same value here)."
      ]
    },
    {
      "cell_type": "code",
      "execution_count": 5,
      "id": "88858454",
      "metadata": {},
      "outputs": [],
      "source": [
        "I_11_k = sp.integrate(sp.sin(x*sp.pi*(1/2+k))**2, (x,0,1))\n",
        "I_12_k = sp.integrate(sp.sin(x*sp.pi*(1/2+k))**2, (x,0,1))\n",
        "I_22_k = sp.integrate(sp.sin(x*sp.pi*(1/2+k))**2, (x,0,1))\n",
        "k0 = 0 # base mode discretization\n",
        "I_11_k0 = float(I_11_k.subs(k, k0))\n",
        "I_12_k0 = float(I_12_k.subs(k, k0))\n",
        "I_22_k0 = float(I_22_k.subs(k, k0))"
      ]
    },
    {
      "cell_type": "markdown",
      "id": "20497933",
      "metadata": {},
      "source": [
        "Lists to substitute numerical values into analytic expressions"
      ]
    },
    {
      "cell_type": "code",
      "execution_count": 6,
      "id": "54f9805d",
      "metadata": {},
      "outputs": [
        {
          "data": {
            "text/plain": [
              "[(L, 20),\n",
              " (n, 0.4),\n",
              " (alpha, 1.0),\n",
              " (G, 187499999.99999994),\n",
              " (m_v, 2e-09),\n",
              " (S, 2.0000000000000003e-10),\n",
              " (rho_f, 1000),\n",
              " (rho_s, 2650),\n",
              " (kappa, 1e-10),\n",
              " (mu, 0.001),\n",
              " (tau, 0.1)]"
            ]
          },
          "metadata": {},
          "output_type": "display_data"
        }
      ],
      "source": [
        "continuum_num = [(L, L_num),\n",
        "                 (n, n_num),\n",
        "                 (alpha,   alpha_num),\n",
        "                 (G, G_num),\n",
        "                 (m_v, m_v_num),\n",
        "                 (S, S_num),\n",
        "                 (rho_f, rho_f_num), \n",
        "                 (rho_s, rho_s_num), \n",
        "                 (kappa, kappa_num), \n",
        "                 (mu, mu_num), \n",
        "                 (tau, tau_num)]\n",
        "\n",
        "display(continuum_num)"
      ]
    },
    {
      "cell_type": "code",
      "execution_count": 7,
      "id": "846ba26a",
      "metadata": {},
      "outputs": [
        {
          "data": {
            "text/plain": [
              "[(I_11, 0.5),\n",
              " (I_12, 0.5),\n",
              " (I_22, 0.5),\n",
              " (D_S, 113.49230434110538),\n",
              " (D_P, 69.4995588420911),\n",
              " (n, 0.4),\n",
              " (alpha, 1.0),\n",
              " (M, 9.999999999999998),\n",
              " (RHO, 2.65),\n",
              " (tau, 0.1)]"
            ]
          },
          "metadata": {},
          "output_type": "display_data"
        }
      ],
      "source": [
        "RHO_num = float((rho_s/rho_f).subs(continuum_num).evalf())\n",
        "M_num =   float((m_v/S).subs(continuum_num).evalf())\n",
        "D_S_num = float((L*n*mu/(kappa*(G*rho_s)**(1/2))).subs(continuum_num).evalf())\n",
        "D_P_num = float((L*n*mu*sp.sqrt(m_v*rho_s)/(kappa*rho_s)).subs(continuum_num).evalf())\n",
        "\n",
        "nondim_num_k0 = [(I_11, I_11_k0),\n",
        "                 (I_12, I_12_k0),\n",
        "                 (I_22, I_22_k0),\n",
        "                 (D_S, D_S_num),\n",
        "                 (D_P, D_P_num),\n",
        "                 (n,   n_num),\n",
        "                 (alpha,   alpha_num),\n",
        "                 (M, M_num),\n",
        "                 (RHO, RHO_num),\n",
        "                 (tau, tau_num)]\n",
        "\n",
        "display(nondim_num_k0)"
      ]
    },
    {
      "cell_type": "markdown",
      "id": "ee6f27cb",
      "metadata": {},
      "source": [
        "Non-dimensional Biot's characteristic frequency [Biot1956: equation (7.4)]"
      ]
    },
    {
      "cell_type": "code",
      "execution_count": 8,
      "id": "6dfff2c6",
      "metadata": {},
      "outputs": [
        {
          "name": "stdout",
          "output_type": "stream",
          "text": [
            "f_crit = 29.312175580925828\n"
          ]
        }
      ],
      "source": [
        "f_characteristic = (mu*n/(2*sp.pi*kappa*rho_f))*L*(m_v*rho_s)**(1/2)\n",
        "f_characteristic_num = float(f_characteristic.subs(continuum_num).evalf())   \n",
        "print(\"f_crit = {}\".format(f_characteristic_num))   # non-dimensional"
      ]
    },
    {
      "cell_type": "markdown",
      "id": "0f4db004",
      "metadata": {},
      "source": [
        "Wave velocities (elastic S, elastic P, undrained P)"
      ]
    },
    {
      "cell_type": "code",
      "execution_count": 9,
      "id": "b319a908",
      "metadata": {},
      "outputs": [
        {
          "name": "stdout",
          "output_type": "stream",
          "text": [
            "c_el_S = 265.997588299466 m/s\n",
            "c_el_P = 434.372242763069 m/s\n",
            "c_un_S = 306.954565901272 m/s\n",
            "c_un_P = 1662.47378790686 m/s\n"
          ]
        }
      ],
      "source": [
        "c_el_S = (G/rho_s)**(1/2)\n",
        "c_el_S_num = c_el_S.subs(continuum_num).evalf()\n",
        "c_el_P = (m_v*rho_s)**(-1/2)\n",
        "c_el_P_num = c_el_P.subs(continuum_num).evalf()\n",
        "c_un_S = (G/((1-n)*rho_s + n*rho_f))**(1/2)    # drained is same as elastic\n",
        "c_un_S_num = c_un_S.subs(continuum_num).evalf()\n",
        "c_un_P = (((1/m_v) + (alpha**2)/S)/((1-n)*rho_s + n*rho_f))**(1/2)\n",
        "c_un_P_num = c_un_P.subs(continuum_num).evalf()\n",
        "print(\"c_el_S = {} m/s\".format(c_el_S_num))\n",
        "print(\"c_el_P = {} m/s\".format(c_el_P_num))\n",
        "print(\"c_un_S = {} m/s\".format(c_un_S_num))\n",
        "print(\"c_un_P = {} m/s\".format(c_un_P_num))"
      ]
    },
    {
      "cell_type": "markdown",
      "id": "1bfc932e",
      "metadata": {},
      "source": [
        "Variables for MBS models (same variables, but different expressions for S- and P-waves)"
      ]
    },
    {
      "cell_type": "code",
      "execution_count": 10,
      "id": "9ef1e133",
      "metadata": {},
      "outputs": [],
      "source": [
        "m_1, m_2, m_Delta, d_Delta, c_1, c_2, c_Delta, delta= sp.symbols('m_1 m_2 m_Delta d_Delta c_1 c_2 c_Delta delta')"
      ]
    },
    {
      "cell_type": "markdown",
      "id": "de27edaf",
      "metadata": {},
      "source": [
        "## S-waves\n",
        "Use isochronic one-term Galerkin discretization of the poroelastic bar (1D) in non-dimensional formulation, with fixed BC on the left (x=0), symmetry BC on the right (x=1), to illustrate the motion of shear waves, since oscillations are standing waves and simpler to describe while wave velocity, wave length and frequency are still related ($c=\\frac{\\omega}{k}$ in non-dissipative case, otherwise close by).\n",
        "\n",
        "Non-dimensional equations of motion for fluid phase (total displacement $u_\\mathrm{f}$) and solid phase (total displacement $u_\\mathrm{s}$)\n",
        "\\begin{align}\n",
        "\\frac{n}{\\rho}\\ddot{u}_\\text{f} + \\frac{n\\tau}{\\rho}(\\ddot{u}_\\text{f} - \\ddot{u}_\\text{s}) + n D_S (\\dot{u}_\\text{f}-\\dot{u}_\\text{s}) &&=0, \\\n",
        "(1-n)\\ddot{u}_\\text{s} - \\frac{n\\tau}{\\rho}(\\ddot{u}_\\text{f} - \\ddot{u}_\\text{s}) - n D_S(\\dot{u}_\\text{f}-\\dot{u}_\\text{s})& - u_\\text{s}'' &=0,\n",
        "\\end{align}\n",
        "with $\\rho = \\frac{\\varrho_\\mathrm{s}}{\\varrho_\\mathrm{f}}$, and $D_\\mathrm{S}=\\frac{n \\mu L}{\\kappa \\sqrt{G \\varrho_\\mathrm{s}}}$, note the relation $D_\\mathrm{S} = \\frac{c_\\mathrm{P}^\\mathrm{el}}{c_\\mathrm{S}^\\mathrm{el}} D_\\mathrm{P}$ with $\\frac{c_\\mathrm{P}^\\mathrm{el}}{c_\\mathrm{S}^\\mathrm{el}} = \\sqrt{\\frac{1}{m_\\mathrm{v} G}}$. "
      ]
    },
    {
      "cell_type": "markdown",
      "id": "8afe415c",
      "metadata": {},
      "source": [
        "### Multi-body system matrices"
      ]
    },
    {
      "cell_type": "markdown",
      "id": "0ecaa8d8",
      "metadata": {},
      "source": [
        "Conversion between multi-body and non-dimensional continuum parameters"
      ]
    },
    {
      "cell_type": "code",
      "execution_count": 11,
      "id": "5fe39e7f",
      "metadata": {},
      "outputs": [
        {
          "name": "stdout",
          "output_type": "stream",
          "text": [
            "m_1(k=0) = 0.0754716981132076\n",
            "m_2(k=0) = 0.300000000000000\n",
            "m_Delta(k=0) = 0.00754716981132076\n",
            "d_Delta(k=0) = 22.6984608682211\n",
            "c_2(k=0) = 1.23370055013617\n"
          ]
        }
      ],
      "source": [
        "mbs2nondim_S = [(m_1,     I_11*(n/RHO)), \n",
        "                (m_2,     I_22*(1-n)), \n",
        "                (m_Delta, I_12*n*tau/RHO), \n",
        "                (d_Delta, I_12*n*D_S), \n",
        "                (c_2,     I_22*(sp.pi*(1/2+k))**2)]\n",
        "\n",
        "print(\"m_1(k=0) = {}\".format(m_1.subs(mbs2nondim_S).subs(nondim_num_k0).evalf()))\n",
        "print(\"m_2(k=0) = {}\".format(m_2.subs(mbs2nondim_S).subs(nondim_num_k0).evalf()))\n",
        "print(\"m_Delta(k=0) = {}\".format(m_Delta.subs(mbs2nondim_S).subs(nondim_num_k0).evalf()))\n",
        "print(\"d_Delta(k=0) = {}\".format(d_Delta.subs(mbs2nondim_S).subs(nondim_num_k0).evalf()))\n",
        "print(\"c_2(k=0) = {}\".format(c_2.subs(mbs2nondim_S).subs(nondim_num_k0 + [(k, k0)]).evalf()))"
      ]
    },
    {
      "cell_type": "markdown",
      "id": "80deb975",
      "metadata": {},
      "source": [
        "mass matrix (symmetric)"
      ]
    },
    {
      "cell_type": "code",
      "execution_count": 12,
      "id": "4cee07b4",
      "metadata": {},
      "outputs": [
        {
          "data": {
            "text/latex": [
              "$\\displaystyle \\left[\\begin{matrix}m_{1} + m_{\\Delta} & - m_{\\Delta}\\- m_{\\Delta} & m_{2} + m_{\\Delta}\\end{matrix}\\right]$"
            ],
            "text/plain": [
              "Matrix([\n",
              "[m_1 + m_Delta,      -m_Delta],\n",
              "[     -m_Delta, m_2 + m_Delta]])"
            ]
          },
          "metadata": {},
          "output_type": "display_data"
        }
      ],
      "source": [
        "mass_S = sp.Matrix(((m_1+m_Delta, -m_Delta), (-m_Delta, m_2+m_Delta)))\n",
        "display(mass_S)"
      ]
    },
    {
      "cell_type": "markdown",
      "id": "793915e2",
      "metadata": {},
      "source": [
        "damping matrix (symmetric)"
      ]
    },
    {
      "cell_type": "code",
      "execution_count": 13,
      "id": "217df3a1",
      "metadata": {},
      "outputs": [
        {
          "data": {
            "text/latex": [
              "$\\displaystyle \\left[\\begin{matrix}d_{\\Delta} & - d_{\\Delta}\\- d_{\\Delta} & d_{\\Delta}\\end{matrix}\\right]$"
            ],
            "text/plain": [
              "Matrix([\n",
              "[ d_Delta, -d_Delta],\n",
              "[-d_Delta,  d_Delta]])"
            ]
          },
          "metadata": {},
          "output_type": "display_data"
        }
      ],
      "source": [
        "damping_S = sp.Matrix(((d_Delta, -d_Delta), (-d_Delta, d_Delta)))\n",
        "display(damping_S)"
      ]
    },
    {
      "cell_type": "markdown",
      "id": "a0e86788",
      "metadata": {},
      "source": [
        "stiffness matrix (symmetric)"
      ]
    },
    {
      "cell_type": "code",
      "execution_count": 14,
      "id": "8de78f68",
      "metadata": {},
      "outputs": [
        {
          "data": {
            "text/latex": [
              "$\\displaystyle \\left[\\begin{matrix}0 & 0\\0 & c_{2}\\end{matrix}\\right]$"
            ],
            "text/plain": [
              "Matrix([\n",
              "[0,   0],\n",
              "[0, c_2]])"
            ]
          },
          "metadata": {},
          "output_type": "display_data"
        }
      ],
      "source": [
        "stiffness_S = sp.Matrix(((0, 0), (0, c_2)))\n",
        "display(stiffness_S)"
      ]
    },
    {
      "cell_type": "code",
      "execution_count": 15,
      "id": "efa44a40",
      "metadata": {},
      "outputs": [
        {
          "data": {
            "text/latex": [
              "$\\displaystyle c_{2} d_{\\Delta} \\delta + c_{2} \\delta^{2} m_{1} + c_{2} \\delta^{2} m_{\\Delta} + d_{\\Delta} \\delta^{3} m_{1} + d_{\\Delta} \\delta^{3} m_{2} + \\delta^{4} m_{1} m_{2} + \\delta^{4} m_{1} m_{\\Delta} + \\delta^{4} m_{2} m_{\\Delta}$"
            ],
            "text/plain": [
              "c_2*d_Delta*delta + c_2*delta**2*m_1 + c_2*delta**2*m_Delta + d_Delta*delta**3*m_1 + d_Delta*delta**3*m_2 + delta**4*m_1*m_2 + delta**4*m_1*m_Delta + delta**4*m_2*m_Delta"
            ]
          },
          "execution_count": 15,
          "metadata": {},
          "output_type": "execute_result"
        }
      ],
      "source": [
        "sp.simplify(sp.Determinant(mass_S*delta**2+damping_S*delta+stiffness_S))"
      ]
    },
    {
      "cell_type": "markdown",
      "id": "95f578a6",
      "metadata": {},
      "source": [
        "_Swap relation_ [Hagedorn2012], to show that damping matrix cannot be diagonalized (except $c_2=0$ or $d_\\Delta=0$)"
      ]
    },
    {
      "cell_type": "code",
      "execution_count": 16,
      "id": "47a2e453",
      "metadata": {},
      "outputs": [
        {
          "data": {
            "text/latex": [
              "$\\displaystyle \\frac{c_{2} d_{\\Delta} m_{1} m_{\\Delta}}{\\left(m_{1} m_{2} + m_{1} m_{\\Delta} + m_{2} m_{\\Delta}\\right)^{2}}$"
            ],
            "text/plain": [
              "c_2*d_Delta*m_1*m_Delta/(m_1*m_2 + m_1*m_Delta + m_2*m_Delta)**2"
            ]
          },
          "metadata": {},
          "output_type": "display_data"
        },
        {
          "data": {
            "text/latex": [
              "$\\displaystyle \\frac{c_{2} d_{\\Delta} \\left(- m_{1} m_{\\Delta} + m_{2} m_{\\Delta} - m_{2} \\left(m_{1} + m_{\\Delta}\\right)\\right)}{\\left(m_{1} m_{2} + m_{1} m_{\\Delta} + m_{2} m_{\\Delta}\\right)^{2}}$"
            ],
            "text/plain": [
              "c_2*d_Delta*(-m_1*m_Delta + m_2*m_Delta - m_2*(m_1 + m_Delta))/(m_1*m_2 + m_1*m_Delta + m_2*m_Delta)**2"
            ]
          },
          "metadata": {},
          "output_type": "display_data"
        },
        {
          "data": {
            "text/latex": [
              "$\\displaystyle \\frac{c_{2} d_{\\Delta} m_{1} \\left(m_{1} + m_{\\Delta}\\right)}{\\left(m_{1} m_{2} + m_{1} m_{\\Delta} + m_{2} m_{\\Delta}\\right)^{2}}$"
            ],
            "text/plain": [
              "c_2*d_Delta*m_1*(m_1 + m_Delta)/(m_1*m_2 + m_1*m_Delta + m_2*m_Delta)**2"
            ]
          },
          "metadata": {},
          "output_type": "display_data"
        },
        {
          "data": {
            "text/latex": [
              "$\\displaystyle - \\frac{c_{2} d_{\\Delta} m_{1} m_{\\Delta}}{\\left(m_{1} m_{2} + m_{1} m_{\\Delta} + m_{2} m_{\\Delta}\\right)^{2}}$"
            ],
            "text/plain": [
              "-c_2*d_Delta*m_1*m_Delta/(m_1*m_2 + m_1*m_Delta + m_2*m_Delta)**2"
            ]
          },
          "metadata": {},
          "output_type": "display_data"
        }
      ],
      "source": [
        "inv_mass_S = sp.Matrix.inv(mass_S)\n",
        "zero_or_not = (inv_mass_S*damping_S)*(inv_mass_S*stiffness_S) - (inv_mass_S*stiffness_S)*(inv_mass_S*damping_S)\n",
        "display(sp.simplify(zero_or_not[0,0]))\n",
        "display(sp.simplify(zero_or_not[0,1]))\n",
        "display(sp.simplify(zero_or_not[1,0]))\n",
        "display(sp.simplify(zero_or_not[1,1])) "
      ]
    },
    {
      "cell_type": "markdown",
      "id": "cea5d110",
      "metadata": {},
      "source": [
        "### Free vibrations"
      ]
    },
    {
      "cell_type": "markdown",
      "id": "53e2a075",
      "metadata": {},
      "source": [
        "Eigenproblem and characteristic equation $a_4 \\delta^4 + a_3 \\delta^3 + a_2 \\delta^2 + a_1 \\delta + a_0 = 0$ with $a_4,a_3,a_2,a_1\\in\\mathbb{R}^+$ and $a_0=0$ on physical grounds ($0\\le \\tau$,$\\rho_\\mathrm{f}$,$\\rho_\\mathrm{s}$,$G$,$\\kappa$,$\\mu$ and $0\\le n\\le 1$)."
      ]
    },
    {
      "cell_type": "code",
      "execution_count": 17,
      "id": "6a25e904",
      "metadata": {},
      "outputs": [
        {
          "data": {
            "text/latex": [
              "$\\displaystyle \\delta \\left(c_{2} d_{\\Delta} + \\delta^{3} \\left(m_{1} m_{2} + m_{1} m_{\\Delta} + m_{2} m_{\\Delta}\\right) + \\delta^{2} \\left(d_{\\Delta} m_{1} + d_{\\Delta} m_{2}\\right) + \\delta \\left(c_{2} m_{1} + c_{2} m_{\\Delta}\\right)\\right)$"
            ],
            "text/plain": [
              "delta*(c_2*d_Delta + delta**3*(m_1*m_2 + m_1*m_Delta + m_2*m_Delta) + delta**2*(d_Delta*m_1 + d_Delta*m_2) + delta*(c_2*m_1 + c_2*m_Delta))"
            ]
          },
          "metadata": {},
          "output_type": "display_data"
        },
        {
          "data": {
            "text/latex": [
              "$\\displaystyle c_{2} d_{\\Delta} + \\delta^{3} \\left(m_{1} m_{2} + m_{1} m_{\\Delta} + m_{2} m_{\\Delta}\\right) + \\delta^{2} \\left(d_{\\Delta} m_{1} + d_{\\Delta} m_{2}\\right) + \\delta \\left(c_{2} m_{1} + c_{2} m_{\\Delta}\\right)$"
            ],
            "text/plain": [
              "c_2*d_Delta + delta**3*(m_1*m_2 + m_1*m_Delta + m_2*m_Delta) + delta**2*(d_Delta*m_1 + d_Delta*m_2) + delta*(c_2*m_1 + c_2*m_Delta)"
            ]
          },
          "metadata": {},
          "output_type": "display_data"
        }
      ],
      "source": [
        "evp_mbs_S = (delta**2)*mass_S + delta*damping_S + stiffness_S\n",
        "ceq_mbs_S = sp.simplify(sp.Determinant(evp_mbs_S).doit())\n",
        "ceq_mbs_reduced_S = ceq_mbs_S/delta\n",
        "display(ceq_mbs_S.collect(delta))\n",
        "display(ceq_mbs_reduced_S.collect(delta))"
      ]
    },
    {
      "cell_type": "code",
      "execution_count": 18,
      "id": "d6f5f2b7",
      "metadata": {},
      "outputs": [
        {
          "data": {
            "text/latex": [
              "$\\displaystyle \\frac{n \\left(D_{S} I_{12} I_{22} \\rho^{2} \\left(\\delta^{2} \\left(1 - n\\right) + \\pi^{2} \\left(k + 0.5\\right)^{2}\\right) + I_{11} I_{12} \\delta^{3} n \\tau + \\rho \\delta \\left(D_{S} I_{11} I_{12} \\delta n + \\pi^{2} I_{11} I_{22} \\left(k + 0.5\\right)^{2} + \\pi^{2} I_{12} I_{22} \\tau \\left(k + 0.5\\right)^{2} + \\delta^{2} \\left(- I_{11} I_{22} \\left(n - 1\\right) - I_{12} I_{22} \\tau \\left(n - 1\\right)\\right)\\right)\\right)}{\\rho^{2}}$"
            ],
            "text/plain": [
              "n*(D_S*I_12*I_22*RHO**2*(delta**2*(1 - n) + pi**2*(k + 0.5)**2) + I_11*I_12*delta**3*n*tau + RHO*delta*(D_S*I_11*I_12*delta*n + pi**2*I_11*I_22*(k + 0.5)**2 + pi**2*I_12*I_22*tau*(k + 0.5)**2 + delta**2*(-I_11*I_22*(n - 1) - I_12*I_22*tau*(n - 1))))/RHO**2"
            ]
          },
          "metadata": {},
          "output_type": "display_data"
        }
      ],
      "source": [
        "evp_nondim_S = evp_mbs_S.subs(mbs2nondim_S)\n",
        "ceq_nondim_reduced_S = sp.simplify(ceq_mbs_reduced_S.subs(mbs2nondim_S))\n",
        "#display(evp_continuum_S)\n",
        "display(ceq_nondim_reduced_S.collect(delta))"
      ]
    },
    {
      "cell_type": "markdown",
      "id": "ca84011c",
      "metadata": {},
      "source": [
        "#### Numerical evaluation (example)"
      ]
    },
    {
      "cell_type": "code",
      "execution_count": 19,
      "id": "216c7ec7",
      "metadata": {},
      "outputs": [
        {
          "data": {
            "text/latex": [
              "$\\displaystyle \\left[\\begin{matrix}0.0830188679245283 \\delta^{2} + 22.6984608682211 \\delta & - 0.00754716981132076 \\delta^{2} - 22.6984608682211 \\delta\\- 0.00754716981132076 \\delta^{2} - 22.6984608682211 \\delta & 0.307547169811321 \\delta^{2} + 22.6984608682211 \\delta + 1.23370055013617\\end{matrix}\\right]$"
            ],
            "text/plain": [
              "Matrix([\n",
              "[  0.0830188679245283*delta**2 + 22.6984608682211*delta,                 -0.00754716981132076*delta**2 - 22.6984608682211*delta],\n",
              "[-0.00754716981132076*delta**2 - 22.6984608682211*delta, 0.307547169811321*delta**2 + 22.6984608682211*delta + 1.23370055013617]])"
            ]
          },
          "metadata": {},
          "output_type": "display_data"
        },
        {
          "data": {
            "text/latex": [
              "$\\displaystyle 0.000569597721609114 \\delta^{3} + 6.80953826046632 \\delta^{2} + 0.150943396226415 \\delta \\left(0.165 \\delta^{2} + 11.3492304341105 \\delta + 0.678535302574893\\right) + 28.0031036603687$"
            ],
            "text/plain": [
              "0.000569597721609114*delta**3 + 6.80953826046632*delta**2 + 0.150943396226415*delta*(0.165*delta**2 + 11.3492304341105*delta + 0.678535302574893) + 28.0031036603687"
            ]
          },
          "metadata": {},
          "output_type": "display_data"
        }
      ],
      "source": [
        "evp_num_S = evp_nondim_S.subs(nondim_num_k0 + [(k,k0)]).evalf()\n",
        "ceq_num_reduced_S = ceq_nondim_reduced_S.subs(nondim_num_k0 + [(k,k0)]).evalf()\n",
        "display(evp_num_S)\n",
        "display(ceq_num_reduced_S)"
      ]
    },
    {
      "cell_type": "code",
      "execution_count": 20,
      "id": "b0d0087d",
      "metadata": {},
      "outputs": [
        {
          "data": {
            "text/plain": [
              "[(-334.54317408329626+0j),\n",
              " (-0.0010979619344772904-1.8126653015384215j),\n",
              " (-0.0010979619344772904+1.8126653015384215j)]"
            ]
          },
          "metadata": {},
          "output_type": "display_data"
        }
      ],
      "source": [
        "eigenvalue_sp_S = sp.solve(ceq_num_reduced_S, delta)\n",
        "eigenvalue_num_S = [complex(EVSP) for EVSP in eigenvalue_sp_S]\n",
        "display(eigenvalue_num_S)\n",
        "number_of_eigenvalues = len(eigenvalue_num_S)"
      ]
    },
    {
      "cell_type": "code",
      "execution_count": 21,
      "id": "d54e3b6e",
      "metadata": {},
      "outputs": [
        {
          "name": "stdout",
          "output_type": "stream",
          "text": [
            "--- 0. mode ---\n",
            "eigenvalue = (-334.54317408329626+0j)  \n",
            "eigenvector = [(0.9697847794016882+0j), (-0.24396204959136356+0j)]\n",
            "--- 1. mode ---\n",
            "eigenvalue = (-0.0010979619344772904-1.8126653015384215j)  \n",
            "eigenvector = [(0.7071003661969636+0j), (0.7071003533653427-0.004261736116557033j)]\n",
            "--- 2. mode ---\n",
            "eigenvalue = (-0.0010979619344772904+1.8126653015384215j)  \n",
            "eigenvector = [(0.7071003661969636+0j), (0.7071003533653427+0.004261736116557033j)]\n",
            "t_scale = 0.002973041888700111\n",
            "Tr0 = 2.989151e-03   Tr1 = 9.107784e+02   Ti1 = 3.466269e+00\n"
          ]
        }
      ],
      "source": [
        "eigenvector_num_S = np.zeros((number_of_eigenvalues, 2), dtype=complex)\n",
        "for mode_n, delta_n in enumerate(eigenvalue_num_S):\n",
        "    EVP_S = evp_num_S.subs(delta, delta_n)\n",
        "    ev0r = np.array([1.0, -EVP_S[0,0].evalf()/EVP_S[0,1].evalf()], dtype=complex)   # first row --> eigenvector\n",
        "    ev0r_norm = np.linalg.norm(ev0r) \n",
        "    if ev0r_norm>0:\n",
        "        ev0rn = ev0r/ev0r_norm  # normalize\n",
        "    else:\n",
        "        ev0rn = ev0r\n",
        "    #ev1r = np.array([1.0, -EVP_S[1,0].evalf()/EVP_S[1,1].evalf()], dtype=complex)   # second row, redundant\n",
        "    #ev1rn = ev1r/np.linalg.norm(ev1r)   # normalize  \n",
        "    print(\"--- {}. mode ---\".format(mode_n))\n",
        "    print(\"eigenvalue = {}  \".format(delta_n))\n",
        "    print(\"eigenvector = [{}, {}]\".format(ev0rn[0], ev0rn[1]))\n",
        "    #print(\"eigenvector = [{}, {}] (redundant)\".format(ev1rn[0], ev1rn[1]))\n",
        "    eigenvector_num_S[mode_n,:] = ev0rn\n",
        "    \n",
        "t_scale = 1.0/(np.abs(min(np.imag(eigenvalue_num_S))) + np.abs(min(np.real(eigenvalue_num_S))))\n",
        "print(\"t_scale = {}\".format(t_scale))\n",
        "t_decay0 = 1/np.abs(np.real(eigenvalue_num_S[0]))\n",
        "t_decay1 = 1/np.abs(np.real(eigenvalue_num_S[1]))\n",
        "t_oscillation1 = 2*np.pi/np.abs(np.imag(eigenvalue_num_S[1]))\n",
        "print(\"Tr0 = {:e}   Tr1 = {:e}   Ti1 = {:e}\".format(t_decay0, t_decay1, t_oscillation1))"
      ]
    },
    {
      "cell_type": "markdown",
      "id": "6c8d215d",
      "metadata": {},
      "source": [
        "#### Visualize modes\n",
        "The real root leads to exponential decay, note that state of rest can be for any relative displacement between masses $m_1$ and $m_2$. The pair of complex-conjugated roots leads to damped oscillations."
      ]
    },
    {
      "cell_type": "code",
      "execution_count": 22,
      "id": "47054775",
      "metadata": {},
      "outputs": [],
      "source": [
        "t_modeshow = np.linspace(0, 25*t_scale)   # try to show oscillation and decay\n",
        "timesteps_modeshow = len(t_modeshow)\n",
        "u_f = np.zeros((number_of_eigenvalues, timesteps_modeshow))\n",
        "u_s = np.zeros((number_of_eigenvalues, timesteps_modeshow))\n",
        "\n",
        "for mode_n, delta_n in enumerate(eigenvalue_num_S):\n",
        "    u_f[mode_n,:] = np.real(eigenvector_num_S[mode_n,0]*np.exp(delta_n*t_modeshow))\n",
        "    u_s[mode_n,:] = np.real(eigenvector_num_S[mode_n,1]*np.exp(delta_n*t_modeshow))"
      ]
    },
    {
      "cell_type": "markdown",
      "id": "ce97d8ac",
      "metadata": {},
      "source": [
        "Note that for complex-conjugated pairs the real parts of its contributions are identical (imaginary parts cancel on summation)."
      ]
    },
    {
      "cell_type": "code",
      "execution_count": 23,
      "id": "5391757a",
      "metadata": {},
      "outputs": [
        {
          "data": {
            "image/png": "[encoded data removed]",
            "text/plain": [
              "<Figure size 432x288 with 1 Axes>"
            ]
          },
          "metadata": {
            "needs_background": "light"
          },
          "output_type": "display_data"
        }
      ],
      "source": [
        "plt.plot(t_modeshow,u_f[0,:],'b',   t_modeshow,u_s[0,:],'k');\n",
        "plt.xlabel(r\"$t$\");\n",
        "plt.ylabel(r\"$u_\\mathrm{f}$,$u_\\mathrm{s}$\");\n",
        "#plt.show();"
      ]
    },
    {
      "cell_type": "markdown",
      "id": "7ac68354",
      "metadata": {},
      "source": [
        "Solid (black) and fluid (blue) move towards each other and slow down to rest."
      ]
    },
    {
      "cell_type": "code",
      "execution_count": 24,
      "id": "9d637e2d",
      "metadata": {},
      "outputs": [
        {
          "data": {
            "image/png": "[encoded data removed]",
            "text/plain": [
              "<Figure size 432x288 with 1 Axes>"
            ]
          },
          "metadata": {
            "needs_background": "light"
          },
          "output_type": "display_data"
        }
      ],
      "source": [
        "plt.plot(t_modeshow, u_f[1,:],'b',   t_modeshow, u_s[1,:],'k');\n",
        "plt.xlabel(r\"$t$\");\n",
        "plt.ylabel(r\"$u_\\mathrm{f}$,$u_\\mathrm{s}$\");\n",
        "#plt.show();"
      ]
    },
    {
      "cell_type": "markdown",
      "id": "17aa6510",
      "metadata": {},
      "source": [
        "Solid (black) and fluid (blue) motion are almost in phase with almost same amplitudes.  "
      ]
    },
    {
      "cell_type": "markdown",
      "id": "7bcd4724",
      "metadata": {},
      "source": [
        "Note, that second root of complex-conjugated pair gives the same plot as first."
      ]
    },
    {
      "cell_type": "markdown",
      "id": "552fe957",
      "metadata": {},
      "source": [
        "### Discriminant\n",
        "There is a discriminant for cubic polynomials indicating the number of real roots. However, for now we claim that there always is the rigid body mode ($\\delta_0=0$), a decaying mode ($\\delta_1\\in\\mathbb{R}$ and $\\delta_1<0$) and an oscillation mode ($\\delta_2, \\delta_3\\in\\mathbb{C}$ and $\\delta_2=\\bar{\\delta}_3$), i.e. S-waves exist always for physically plausible values. \n",
        "For the proof, we refer to this characteristic polynomial (S-waves) as a special case ($c_1=c_\\Delta=0$) of the more general characteristic polynomial for the P-wave model in the next section (same structure, only different values of the coefficients)."
      ]
    },
    {
      "cell_type": "markdown",
      "id": "738852e7",
      "metadata": {},
      "source": [
        "### Higher modes"
      ]
    },
    {
      "cell_type": "markdown",
      "id": "5baacc40",
      "metadata": {},
      "source": [
        "Characteristics of S-waves (takes some seconds)"
      ]
    },
    {
      "cell_type": "code",
      "execution_count": 25,
      "id": "e9c5d40d",
      "metadata": {},
      "outputs": [],
      "source": [
        "Nk = 1000\n",
        "d = np.zeros(Nk)   # decay constant\n",
        "c = np.zeros(Nk)   # phase velocity approximation\n",
        "f = np.zeros(Nk)   # frequency\n",
        "AR = np.zeros(Nk)   # amplitude ratio\n",
        "phi = np.zeros(Nk)   # phase angle\n",
        "\n",
        "index_S = 1    # second and third eigenvalue compose wave mode\n",
        "\n",
        "for k_num in range(Nk):\n",
        "    \n",
        "    I_11_num = float(I_11_k.subs(k, k_num))\n",
        "    I_12_num = float(I_12_k.subs(k, k_num))\n",
        "    I_22_num = float(I_22_k.subs(k, k_num))\n",
        "    \n",
        "    # redefine, since I_ij changes with higher modes\n",
        "    nondim_num_k = [(I_11,  I_11_num),\n",
        "                    (I_12,  I_12_num),\n",
        "                    (I_22,  I_22_num),\n",
        "                    (D_S,   D_S_num),\n",
        "                    (D_P,   D_P_num),\n",
        "                    (n,     n_num),\n",
        "                    (alpha, alpha_num),\n",
        "                    (M,     M_num),\n",
        "                    (RHO,   RHO_num),\n",
        "                    (tau,   tau_num)]\n",
        "    \n",
        "    ceq_num_reduced_Sk = ceq_nondim_reduced_S.subs(nondim_num_k + [(k, k_num)]).evalf()\n",
        "    eigenvalue_sp = sp.solve(ceq_num_reduced_Sk, delta)\n",
        "    eigenvalue_num = [complex(EVSP) for EVSP in eigenvalue_sp]\n",
        "    d[k_num] = np.real(eigenvalue_num[index_S])\n",
        "    omega = np.abs(np.imag(eigenvalue_num[index_S]))\n",
        "    c[k_num] = omega/((k_num+1/2)*np.pi)    \n",
        "    f[k_num] = omega/(2*np.pi)\n",
        "    \n",
        "    evp_num_Sk = evp_nondim_S.subs(nondim_num_k + [(k, k_num)]).evalf()\n",
        "    EVP = evp_num_Sk.subs(delta, eigenvalue_num[index_S])\n",
        "    evkr = np.array([1.0, -EVP[0,0].evalf()/EVP[0,1].evalf()], dtype=complex)   # first row --> eigenvector\n",
        "    us_uf = evkr[1]/evkr[0]   # TODO exclude division by zero\n",
        "    AR[k_num] = 1.0/np.absolute(us_uf)   # fluid-to-solid\n",
        "    phi[k_num] = np.angle(us_uf)   #np.abs(np.angle(us_uf))"
      ]
    },
    {
      "cell_type": "code",
      "execution_count": 26,
      "id": "33b00d8c",
      "metadata": {},
      "outputs": [
        {
          "name": "stdout",
          "output_type": "stream",
          "text": [
            "nondimensional c_el_S = 0.612372435695794\n"
          ]
        },
        {
          "data": {
            "image/png": "[encoded data removed]",
            "text/plain": [
              "<Figure size 432x288 with 2 Axes>"
            ]
          },
          "metadata": {
            "needs_background": "light"
          },
          "output_type": "display_data"
        },
        {
          "data": {
            "image/png": "[encoded data removed]",
            "text/plain": [
              "<Figure size 432x288 with 2 Axes>"
            ]
          },
          "metadata": {
            "needs_background": "light"
          },
          "output_type": "display_data"
        }
      ],
      "source": [
        "print(\"nondimensional c_el_S = {}\".format(c_el_S_num/c_el_P_num))\n",
        "\n",
        "fig1, ax1 = plt.subplots()\n",
        "ax2 = ax1.twinx()\n",
        "ax1.semilogx(f, c, 'g')\n",
        "ax2.semilogx(f, np.abs(d)/f, 'b')\n",
        "ax1.set_xlabel(r'frequency');\n",
        "ax1.set_xticks(list(ax1.get_xticks()) + [f_characteristic_num], list(ax1.get_xticklabels()) + ['$f_c$'])   # with extra tick\n",
        "ax1.set_ylabel(r'phase velocity', color='g');\n",
        "ax2.set_ylabel(r'decay constant', color='b');\n",
        "#tikzplotlib.save(\"s_wave_eigenvalue.tex\", axis_height = '\\figH', axis_width = '\\figW')  \n",
        "\n",
        "fig2, ax3 = plt.subplots()\n",
        "ax4 = ax3.twinx()\n",
        "ax3.semilogx(f, AR, 'g')\n",
        "ax4.semilogx(f, phi, 'b')\n",
        "ax3.set_xlabel(r'frequency');\n",
        "ax3.set_xticks(list(ax3.get_xticks()) + [f_characteristic_num], list(ax3.get_xticklabels()) + ['$f_c$'])   # with extra tick\n",
        "ax3.set_ylabel(r'amplitude ratio', color='g');\n",
        "ax4.set_ylabel(r'phase angle [RAD]', color='b');\n",
        "#tikzplotlib.save(\"s_wave_eigenvector.tex\", axis_height = '\\figH', axis_width = '\\figW') "
      ]
    },
    {
      "cell_type": "markdown",
      "id": "72ef048f",
      "metadata": {},
      "source": [
        "Numbers for TikZ-plots (complex amplitudes and time history)"
      ]
    },
    {
      "cell_type": "code",
      "execution_count": 27,
      "id": "1c63917b",
      "metadata": {},
      "outputs": [
        {
          "name": "stdout",
          "output_type": "stream",
          "text": [
            "318.749559645193\n",
            "0.09413243679788895\n",
            "0.10577309551358847\n",
            "-0.12230081864595586\n"
          ]
        }
      ],
      "source": [
        "k_num = 500   # 0, 50, 500\n",
        "print(f[k_num])\n",
        "print(-d[k_num]/f[k_num])   # delta, with time axis scaled to period\n",
        "print(AR[k_num]*np.cos(phi[k_num])) # u_fluid, real part, with u_solid = 1\n",
        "print(AR[k_num]*np.sin(phi[k_num])) # u_fluid, imaginary part, with u_solid = 1"
      ]
    },
    {
      "cell_type": "markdown",
      "id": "b1a2ca07",
      "metadata": {},
      "source": [
        "## P-waves\n",
        "Non-dimensional equations of motion for fluid phase (displacement $u_\\text{f}$) and solid phase (displacement $u_\\text{s}$)\n",
        "\\begin{align}\n",
        "\\frac{n}{\\rho}\\ddot{u}_\\mathrm{f} + &\\frac{n\\tau}{\\rho}(\\ddot{u}_\\mathrm{f}- \\ddot{u}_\\mathrm{s}) &+& n D_\\text{P} (\\dot{u}_\\mathrm{f}-\\dot{u}_\\mathrm{s}) &-& nM\\bigl(n u_\\mathrm{f}'' - (n-\\alpha)u_\\mathrm{s}''\\bigr) &=0, \\\n",
        "(1-n) \\ddot{u}_\\mathrm{s} -& \\frac{n\\tau}{\\rho} (\\ddot{u}_\\mathrm{f} - \\ddot{u}_\\mathrm{s}) &-& n D_\\text{P} (\\dot{u}_\\mathrm{f}-\\dot{u}_\\mathrm{s}) &-& (n-\\alpha)M \\bigl(-n u_\\mathrm{f}'' + (n-\\alpha)u_\\mathrm{s}''\\bigr) - u_\\mathrm{s}'' &=0,\n",
        "\\end{align}\n",
        "with $\\rho = \\frac{\\varrho_\\text{s}}{\\varrho_\\text{f}}$, $M = \\frac{m_\\text{v}}{S_\\text{p}}$ and $D_\\mathrm{P} = \\frac{n\\mu L\\,\\sqrt{m_\\text{v}}\\, }{\\kappa \\sqrt{\\varrho_\\text{s}}}$, note relation $D_\\mathrm{P} = \\frac{c_\\mathrm{S}^\\mathrm{el}}{c_\\mathrm{P}^\\mathrm{el}}D_S$ with $\\frac{c_\\mathrm{S}^\\mathrm{el}}{c_\\mathrm{P}^\\mathrm{el}} = \\sqrt{m_\\text{v} G}$. \n",
        "\n",
        "**Remarks** about the resulting formulation as multi-body system\n",
        "- negative masses (interaction mass $m_\\Delta$ in off-diagonal entries of mass matrix),\n",
        "- complex eigenvectors (diagonalization of damping matrix with undamped eigenvectors is impossible),\n",
        "- non-dimensional damping $D_\\mathrm{P}$ in P-waves is similar to the ratio $\\frac{L f_\\mathrm{c}}{V_\\mathrm{c}}$ with bar length $L$ times characteristic frequency $f_\\mathrm{c}$ \\[Biot1956: eq.(7.4)\\], which divides low- from high-frequency range, and reference velocity $V_\\mathrm{c}$ in his notation \\[Biot1956: equation (5.4)\\],\n",
        "- Biot refers to the velocity of dilatational waves in the undrained case $V_\\mathrm{c} = \\sqrt{\\frac{1/m_\\text{v} + \\alpha^2/S_\\text{p}}{(1-n)\\varrho_\\text{s} + n \\varrho_\\text{f}}}$ and a characteristic frequency $f_c=\\frac{1}{2\\pi}\\frac{\\mu n}{\\kappa \\varrho_\\text{f}}$ \\[Biot1956: equations (5.4) and (7.4)\\]. "
      ]
    },
    {
      "cell_type": "markdown",
      "id": "d7f27916",
      "metadata": {},
      "source": [
        "### Multi-body system matrices"
      ]
    },
    {
      "cell_type": "markdown",
      "id": "16115758",
      "metadata": {},
      "source": [
        "Conversion between multi-body and non-dimensional continuum parameters"
      ]
    },
    {
      "cell_type": "code",
      "execution_count": 28,
      "id": "2e0e6e4e",
      "metadata": {},
      "outputs": [
        {
          "name": "stdout",
          "output_type": "stream",
          "text": [
            "m_1(k=0)     = 0.0754716981132076\n",
            "m_2(k=0)     = 0.300000000000000\n",
            "m_Delta(k=0) = 0.00754716981132076\n",
            "d_Delta(k=0) = 13.8999117684182\n",
            "c_1(k=0)     = 4.93480220054468\n",
            "c_2(k=0)     = 8.63590385095319\n",
            "c_Delta(k=0) = -2.96088132032681\n"
          ]
        }
      ],
      "source": [
        "mbs2nondim_P = [(m_1,     I_11*n/RHO), \n",
        "                (m_2,     I_22*(1-n)), \n",
        "                (m_Delta, I_12*n*tau/RHO), \n",
        "                (d_Delta, I_12*n*D_P), \n",
        "                (c_1,     I_11*(((k+1/2)*sp.pi)**2)*n*M*alpha),\n",
        "                (c_2,     I_22*(((k+1/2)*sp.pi)**2)*(1 - (n-alpha)*M*alpha)),\n",
        "                (c_Delta, I_12*(((k+1/2)*sp.pi)**2)*(n-alpha)*M*n)]\n",
        "\n",
        "m_1_num_P =         m_1.subs(mbs2nondim_P).subs(nondim_num_k0).evalf()\n",
        "m_2_num_P =         m_2.subs(mbs2nondim_P).subs(nondim_num_k0).evalf()\n",
        "m_Delta_num_P = m_Delta.subs(mbs2nondim_P).subs(nondim_num_k0).evalf() \n",
        "d_Delta_num_P = d_Delta.subs(mbs2nondim_P).subs(nondim_num_k0).evalf()\n",
        "c_1_num_P =         c_1.subs(mbs2nondim_P).subs(nondim_num_k0 + [(k,k0)]).evalf()\n",
        "c_2_num_P =         c_2.subs(mbs2nondim_P).subs(nondim_num_k0 + [(k,k0)]).evalf()\n",
        "c_Delta_num_P = c_Delta.subs(mbs2nondim_P).subs(nondim_num_k0 + [(k,k0)]).evalf()\n",
        "# masses\n",
        "print('m_1(k=0)     = ' + str(m_1_num_P))\n",
        "print('m_2(k=0)     = ' + str(m_2_num_P))\n",
        "print('m_Delta(k=0) = ' + str(m_Delta_num_P))\n",
        "# damping\n",
        "print('d_Delta(k=0) = ' + str(d_Delta_num_P))\n",
        "# springs\n",
        "print('c_1(k=0)     = ' + str(c_1_num_P))\n",
        "print('c_2(k=0)     = ' + str(c_2_num_P))\n",
        "print('c_Delta(k=0) = ' + str(c_Delta_num_P))"
      ]
    },
    {
      "cell_type": "markdown",
      "id": "0f97c692",
      "metadata": {},
      "source": [
        "mass matrix (symmetric)"
      ]
    },
    {
      "cell_type": "code",
      "execution_count": 29,
      "id": "77f2a02f",
      "metadata": {},
      "outputs": [
        {
          "data": {
            "text/latex": [
              "$\\displaystyle \\left[\\begin{matrix}m_{1} + m_{\\Delta} & - m_{\\Delta}\\- m_{\\Delta} & m_{2} + m_{\\Delta}\\end{matrix}\\right]$"
            ],
            "text/plain": [
              "Matrix([\n",
              "[m_1 + m_Delta,      -m_Delta],\n",
              "[     -m_Delta, m_2 + m_Delta]])"
            ]
          },
          "metadata": {},
          "output_type": "display_data"
        }
      ],
      "source": [
        "mass_P = sp.Matrix(((m_1+m_Delta, -m_Delta), (-m_Delta, m_2+m_Delta)))\n",
        "display(mass_P)"
      ]
    },
    {
      "cell_type": "markdown",
      "id": "65bc46e4",
      "metadata": {},
      "source": [
        "damping matrix (symmetric)"
      ]
    },
    {
      "cell_type": "code",
      "execution_count": 30,
      "id": "f65ec0ff",
      "metadata": {},
      "outputs": [
        {
          "data": {
            "text/latex": [
              "$\\displaystyle \\left[\\begin{matrix}d_{\\Delta} & - d_{\\Delta}\\- d_{\\Delta} & d_{\\Delta}\\end{matrix}\\right]$"
            ],
            "text/plain": [
              "Matrix([\n",
              "[ d_Delta, -d_Delta],\n",
              "[-d_Delta,  d_Delta]])"
            ]
          },
          "metadata": {},
          "output_type": "display_data"
        }
      ],
      "source": [
        "damping_P = sp.Matrix(((d_Delta, -d_Delta), (-d_Delta, d_Delta)))\n",
        "display(damping_P)"
      ]
    },
    {
      "cell_type": "markdown",
      "id": "da641df5",
      "metadata": {},
      "source": [
        "stiffness matrix (symmetric)"
      ]
    },
    {
      "cell_type": "code",
      "execution_count": 31,
      "id": "114e059e",
      "metadata": {},
      "outputs": [
        {
          "data": {
            "text/latex": [
              "$\\displaystyle \\left[\\begin{matrix}c_{1} + c_{\\Delta} & - c_{\\Delta}\\- c_{\\Delta} & c_{2} + c_{\\Delta}\\end{matrix}\\right]$"
            ],
            "text/plain": [
              "Matrix([\n",
              "[c_1 + c_Delta,      -c_Delta],\n",
              "[     -c_Delta, c_2 + c_Delta]])"
            ]
          },
          "metadata": {},
          "output_type": "display_data"
        }
      ],
      "source": [
        "stiffness_P = sp.Matrix(((c_1+c_Delta, -c_Delta), (-c_Delta, c_2+c_Delta)))\n",
        "display(stiffness_P)"
      ]
    },
    {
      "cell_type": "markdown",
      "id": "a46ba276",
      "metadata": {},
      "source": [
        "check (swap relation) whether diagonalization with eigenvectors of undamped system is possible (answer is no, except degenerate cases)"
      ]
    },
    {
      "cell_type": "code",
      "execution_count": 32,
      "id": "198cf63f",
      "metadata": {},
      "outputs": [
        {
          "data": {
            "text/latex": [
              "$\\displaystyle \\frac{d_{\\Delta} \\left(- m_{1} \\left(c_{\\Delta} \\left(m_{2} + m_{\\Delta}\\right) - m_{\\Delta} \\left(c_{2} + c_{\\Delta}\\right)\\right) + m_{2} \\left(c_{\\Delta} \\left(m_{1} + m_{\\Delta}\\right) - m_{\\Delta} \\left(c_{1} + c_{\\Delta}\\right)\\right)\\right)}{\\left(m_{1} m_{2} + m_{1} m_{\\Delta} + m_{2} m_{\\Delta}\\right)^{2}}$"
            ],
            "text/plain": [
              "d_Delta*(-m_1*(c_Delta*(m_2 + m_Delta) - m_Delta*(c_2 + c_Delta)) + m_2*(c_Delta*(m_1 + m_Delta) - m_Delta*(c_1 + c_Delta)))/(m_1*m_2 + m_1*m_Delta + m_2*m_Delta)**2"
            ]
          },
          "metadata": {},
          "output_type": "display_data"
        },
        {
          "data": {
            "text/latex": [
              "$\\displaystyle \\frac{d_{\\Delta} \\left(m_{1} \\left(c_{\\Delta} \\left(m_{2} + m_{\\Delta}\\right) - m_{\\Delta} \\left(c_{2} + c_{\\Delta}\\right)\\right) - m_{2} \\left(c_{\\Delta} m_{\\Delta} - \\left(c_{1} + c_{\\Delta}\\right) \\left(m_{2} + m_{\\Delta}\\right)\\right) + m_{2} \\left(c_{\\Delta} m_{\\Delta} - \\left(c_{2} + c_{\\Delta}\\right) \\left(m_{1} + m_{\\Delta}\\right)\\right) - m_{2} \\left(c_{\\Delta} \\left(m_{2} + m_{\\Delta}\\right) - m_{\\Delta} \\left(c_{2} + c_{\\Delta}\\right)\\right)\\right)}{\\left(m_{1} m_{2} + m_{1} m_{\\Delta} + m_{2} m_{\\Delta}\\right)^{2}}$"
            ],
            "text/plain": [
              "d_Delta*(m_1*(c_Delta*(m_2 + m_Delta) - m_Delta*(c_2 + c_Delta)) - m_2*(c_Delta*m_Delta - (c_1 + c_Delta)*(m_2 + m_Delta)) + m_2*(c_Delta*m_Delta - (c_2 + c_Delta)*(m_1 + m_Delta)) - m_2*(c_Delta*(m_2 + m_Delta) - m_Delta*(c_2 + c_Delta)))/(m_1*m_2 + m_1*m_Delta + m_2*m_Delta)**2"
            ]
          },
          "metadata": {},
          "output_type": "display_data"
        },
        {
          "data": {
            "text/latex": [
              "$\\displaystyle \\frac{d_{\\Delta} \\left(m_{1} \\left(c_{\\Delta} m_{\\Delta} - \\left(c_{1} + c_{\\Delta}\\right) \\left(m_{2} + m_{\\Delta}\\right)\\right) - m_{1} \\left(c_{\\Delta} m_{\\Delta} - \\left(c_{2} + c_{\\Delta}\\right) \\left(m_{1} + m_{\\Delta}\\right)\\right) - m_{1} \\left(c_{\\Delta} \\left(m_{1} + m_{\\Delta}\\right) - m_{\\Delta} \\left(c_{1} + c_{\\Delta}\\right)\\right) + m_{2} \\left(c_{\\Delta} \\left(m_{1} + m_{\\Delta}\\right) - m_{\\Delta} \\left(c_{1} + c_{\\Delta}\\right)\\right)\\right)}{\\left(m_{1} m_{2} + m_{1} m_{\\Delta} + m_{2} m_{\\Delta}\\right)^{2}}$"
            ],
            "text/plain": [
              "d_Delta*(m_1*(c_Delta*m_Delta - (c_1 + c_Delta)*(m_2 + m_Delta)) - m_1*(c_Delta*m_Delta - (c_2 + c_Delta)*(m_1 + m_Delta)) - m_1*(c_Delta*(m_1 + m_Delta) - m_Delta*(c_1 + c_Delta)) + m_2*(c_Delta*(m_1 + m_Delta) - m_Delta*(c_1 + c_Delta)))/(m_1*m_2 + m_1*m_Delta + m_2*m_Delta)**2"
            ]
          },
          "metadata": {},
          "output_type": "display_data"
        },
        {
          "data": {
            "text/latex": [
              "$\\displaystyle \\frac{d_{\\Delta} \\left(m_{1} \\left(c_{\\Delta} \\left(m_{2} + m_{\\Delta}\\right) - m_{\\Delta} \\left(c_{2} + c_{\\Delta}\\right)\\right) - m_{2} \\left(c_{\\Delta} \\left(m_{1} + m_{\\Delta}\\right) - m_{\\Delta} \\left(c_{1} + c_{\\Delta}\\right)\\right)\\right)}{\\left(m_{1} m_{2} + m_{1} m_{\\Delta} + m_{2} m_{\\Delta}\\right)^{2}}$"
            ],
            "text/plain": [
              "d_Delta*(m_1*(c_Delta*(m_2 + m_Delta) - m_Delta*(c_2 + c_Delta)) - m_2*(c_Delta*(m_1 + m_Delta) - m_Delta*(c_1 + c_Delta)))/(m_1*m_2 + m_1*m_Delta + m_2*m_Delta)**2"
            ]
          },
          "metadata": {},
          "output_type": "display_data"
        }
      ],
      "source": [
        "inv_mass_P = sp.Matrix.inv(mass_P)\n",
        "zero_or_not = (inv_mass_P*damping_P)*(inv_mass_P*stiffness_P) - (inv_mass_P*stiffness_P)*(inv_mass_P*damping_P)\n",
        "display(sp.simplify(zero_or_not[0,0]))\n",
        "display(sp.simplify(zero_or_not[0,1]))\n",
        "display(sp.simplify(zero_or_not[1,0]))\n",
        "display(sp.simplify(zero_or_not[1,1]))        "
      ]
    },
    {
      "cell_type": "markdown",
      "id": "a0357f83",
      "metadata": {},
      "source": [
        "### Free vibrations"
      ]
    },
    {
      "cell_type": "markdown",
      "id": "24520e27",
      "metadata": {},
      "source": [
        "Eigenproblem and characteristic equation $a_4 \\delta^4 + a_3 \\delta^3 + a_2 \\delta^2 + a_1 \\delta + a_0 = 0$ with $a_4,a_3,a_2,a_1,a_0\\in\\mathbb{R}^+$ on physical grounds ($0\\le \\tau$,$\\rho_\\mathrm{f}$,$\\rho_\\mathrm{s}$,$m_\\mathrm{v}$,$S_\\mathrm{p}$,$\\kappa$,$\\mu$ and $0\\le \\alpha,n\\le 1$)."
      ]
    },
    {
      "cell_type": "code",
      "execution_count": 33,
      "id": "7a9797e0",
      "metadata": {},
      "outputs": [
        {
          "data": {
            "text/latex": [
              "$\\displaystyle c_{1} c_{2} + c_{1} c_{\\Delta} + c_{2} c_{\\Delta} + \\delta^{4} \\left(m_{1} m_{2} + m_{1} m_{\\Delta} + m_{2} m_{\\Delta}\\right) + \\delta^{3} \\left(d_{\\Delta} m_{1} + d_{\\Delta} m_{2}\\right) + \\delta^{2} \\left(c_{1} m_{2} + c_{1} m_{\\Delta} + c_{2} m_{1} + c_{2} m_{\\Delta} + c_{\\Delta} m_{1} + c_{\\Delta} m_{2}\\right) + \\delta \\left(c_{1} d_{\\Delta} + c_{2} d_{\\Delta}\\right)$"
            ],
            "text/plain": [
              "c_1*c_2 + c_1*c_Delta + c_2*c_Delta + delta**4*(m_1*m_2 + m_1*m_Delta + m_2*m_Delta) + delta**3*(d_Delta*m_1 + d_Delta*m_2) + delta**2*(c_1*m_2 + c_1*m_Delta + c_2*m_1 + c_2*m_Delta + c_Delta*m_1 + c_Delta*m_2) + delta*(c_1*d_Delta + c_2*d_Delta)"
            ]
          },
          "metadata": {},
          "output_type": "display_data"
        }
      ],
      "source": [
        "evp_mbs_P = (delta**2)*mass_P + delta*damping_P + stiffness_P\n",
        "ceq_mbs_P = sp.simplify(sp.Determinant(evp_mbs_P).doit())\n",
        "display(ceq_mbs_P.collect(delta))"
      ]
    },
    {
      "cell_type": "code",
      "execution_count": 34,
      "id": "908c9966",
      "metadata": {},
      "outputs": [
        {
          "data": {
            "text/latex": [
              "$\\displaystyle \\frac{n \\left(I_{11} I_{12} \\delta^{4} n \\tau + \\rho^{2} \\left(- D_{P} I_{12} I_{22} \\delta^{3} \\left(n - 1\\right) - \\pi^{4} I_{11} I_{12} M^{2} \\alpha n \\left(\\alpha - n\\right) \\left(k + 0.5\\right)^{4} + \\pi^{4} I_{11} I_{22} M \\alpha \\left(k + 0.5\\right)^{4} \\left(M \\alpha \\left(\\alpha - n\\right) + 1\\right) - \\pi^{4} I_{12} I_{22} M \\left(\\alpha - n\\right) \\left(k + 0.5\\right)^{4} \\left(M \\alpha \\left(\\alpha - n\\right) + 1\\right) + \\delta^{2} \\left(- \\pi^{2} I_{11} I_{22} M \\alpha \\left(k + 0.5\\right)^{2} \\left(n - 1\\right) + \\pi^{2} I_{12} I_{22} M \\left(\\alpha - n\\right) \\left(k + 0.5\\right)^{2} \\left(n - 1\\right)\\right) + \\delta \\left(\\pi^{2} D_{P} I_{11} I_{12} M \\alpha n \\left(k + 0.5\\right)^{2} + \\pi^{2} D_{P} I_{12} I_{22} \\left(k + 0.5\\right)^{2} \\left(M \\alpha \\left(\\alpha - n\\right) + 1\\right)\\right)\\right) + \\rho \\delta^{2} \\left(D_{P} I_{11} I_{12} \\delta n + \\pi^{2} I_{11} I_{12} M \\alpha n \\tau \\left(k + 0.5\\right)^{2} - \\pi^{2} I_{11} I_{12} M n \\left(\\alpha - n\\right) \\left(k + 0.5\\right)^{2} + \\pi^{2} I_{11} I_{22} \\left(k + 0.5\\right)^{2} \\left(M \\alpha \\left(\\alpha - n\\right) + 1\\right) + \\pi^{2} I_{12} I_{22} \\tau \\left(k + 0.5\\right)^{2} \\left(M \\alpha \\left(\\alpha - n\\right) + 1\\right) + \\delta^{2} \\left(- I_{11} I_{22} \\left(n - 1\\right) - I_{12} I_{22} \\tau \\left(n - 1\\right)\\right)\\right)\\right)}{\\rho^{2}}$"
            ],
            "text/plain": [
              "n*(I_11*I_12*delta**4*n*tau + RHO**2*(-D_P*I_12*I_22*delta**3*(n - 1) - pi**4*I_11*I_12*M**2*alpha*n*(alpha - n)*(k + 0.5)**4 + pi**4*I_11*I_22*M*alpha*(k + 0.5)**4*(M*alpha*(alpha - n) + 1) - pi**4*I_12*I_22*M*(alpha - n)*(k + 0.5)**4*(M*alpha*(alpha - n) + 1) + delta**2*(-pi**2*I_11*I_22*M*alpha*(k + 0.5)**2*(n - 1) + pi**2*I_12*I_22*M*(alpha - n)*(k + 0.5)**2*(n - 1)) + delta*(pi**2*D_P*I_11*I_12*M*alpha*n*(k + 0.5)**2 + pi**2*D_P*I_12*I_22*(k + 0.5)**2*(M*alpha*(alpha - n) + 1))) + RHO*delta**2*(D_P*I_11*I_12*delta*n + pi**2*I_11*I_12*M*alpha*n*tau*(k + 0.5)**2 - pi**2*I_11*I_12*M*n*(alpha - n)*(k + 0.5)**2 + pi**2*I_11*I_22*(k + 0.5)**2*(M*alpha*(alpha - n) + 1) + pi**2*I_12*I_22*tau*(k + 0.5)**2*(M*alpha*(alpha - n) + 1) + delta**2*(-I_11*I_22*(n - 1) - I_12*I_22*tau*(n - 1))))/RHO**2"
            ]
          },
          "metadata": {},
          "output_type": "display_data"
        }
      ],
      "source": [
        "evp_nondim_P = evp_mbs_P.subs(mbs2nondim_P)\n",
        "ceq_nondim_P = sp.simplify(ceq_mbs_P.subs(mbs2nondim_P))\n",
        "#display(evp_continuum)\n",
        "display(ceq_nondim_P.collect(delta))"
      ]
    },
    {
      "cell_type": "markdown",
      "id": "d9be3853",
      "metadata": {},
      "source": [
        "#### Numerical evaluation (example)"
      ]
    },
    {
      "cell_type": "code",
      "execution_count": 35,
      "id": "e6b909b3",
      "metadata": {},
      "outputs": [
        {
          "data": {
            "text/latex": [
              "$\\displaystyle \\left[\\begin{matrix}0.0830188679245283 \\delta^{2} + 13.8999117684182 \\delta + 1.97392088021787 & - 0.00754716981132076 \\delta^{2} - 13.8999117684182 \\delta + 2.96088132032681\\- 0.00754716981132076 \\delta^{2} - 13.8999117684182 \\delta + 2.96088132032681 & 0.307547169811321 \\delta^{2} + 13.8999117684182 \\delta + 5.67502253062638\\end{matrix}\\right]$"
            ],
            "text/plain": [
              "Matrix([\n",
              "[  0.0830188679245283*delta**2 + 13.8999117684182*delta + 1.97392088021787, -0.00754716981132076*delta**2 - 13.8999117684182*delta + 2.96088132032681],\n",
              "[-0.00754716981132076*delta**2 - 13.8999117684182*delta + 2.96088132032681,    0.307547169811321*delta**2 + 13.8999117684182*delta + 5.67502253062638]])"
            ]
          },
          "metadata": {},
          "output_type": "display_data"
        },
        {
          "data": {
            "text/latex": [
              "$\\displaystyle 0.000569597721609114 \\delta^{4} + 4.16997353052547 \\delta^{3} + 0.150943396226415 \\delta^{2} \\left(0.165 \\delta^{2} + 6.94995588420911 \\delta + 3.51604656788808\\right) + 0.592176264065361 \\delta^{2} + 188.63161675096 \\delta + 2.43522727585006$"
            ],
            "text/plain": [
              "0.000569597721609114*delta**4 + 4.16997353052547*delta**3 + 0.150943396226415*delta**2*(0.165*delta**2 + 6.94995588420911*delta + 3.51604656788808) + 0.592176264065361*delta**2 + 188.63161675096*delta + 2.43522727585006"
            ]
          },
          "metadata": {},
          "output_type": "display_data"
        }
      ],
      "source": [
        "evp_num_P = evp_nondim_P.subs(nondim_num_k0 + [(k, k0)]).evalf()\n",
        "ceq_num_P = ceq_nondim_P.subs(nondim_num_k0 + [(k, k0)]).evalf()\n",
        "display(evp_num_P)\n",
        "display(ceq_num_P)"
      ]
    },
    {
      "cell_type": "code",
      "execution_count": 36,
      "id": "ea9229fb",
      "metadata": {},
      "outputs": [
        {
          "data": {
            "text/plain": [
              "[(-204.8276454930922+0j),\n",
              " (-0.012910896190741171+0j),\n",
              " (-0.012903346378002107-6.012249185383537j),\n",
              " (-0.012903346378002107+6.012249185383537j)]"
            ]
          },
          "metadata": {},
          "output_type": "display_data"
        }
      ],
      "source": [
        "eigenvalue_sp_P = sp.solve(ceq_num_P, delta)\n",
        "eigenvalue_num_P = [complex(EVSP) for EVSP in eigenvalue_sp_P]\n",
        "display(eigenvalue_num_P)\n",
        "number_of_eigenvalues = len(eigenvalue_num_P)"
      ]
    },
    {
      "cell_type": "markdown",
      "id": "fb9c199d",
      "metadata": {},
      "source": [
        "Plot characteristic equation, intersections of zero-levels of real- and imaginary parts are roots of characteristic equation."
      ]
    },
    {
      "cell_type": "code",
      "execution_count": 37,
      "id": "fca9170a",
      "metadata": {},
      "outputs": [
        {
          "data": {
            "image/png": "[encoded data removed]",
            "text/plain": [
              "<Figure size 432x288 with 1 Axes>"
            ]
          },
          "metadata": {
            "needs_background": "light"
          },
          "output_type": "display_data"
        }
      ],
      "source": [
        "Xmin = min(np.real(eigenvalue_num_P))\n",
        "Xmax = max(np.real(eigenvalue_num_P))\n",
        "dX = Xmax - Xmin\n",
        "Ymin = min(np.imag(eigenvalue_num_P))\n",
        "Ymax = max(np.imag(eigenvalue_num_P))\n",
        "dY = Ymax - Ymin\n",
        "X = np.linspace(Xmin-dX, Xmax+dX, 500)\n",
        "Y = np.linspace(Ymin-0.5*dY, Ymax+0.5*dY, 500)\n",
        "XX, YY = np.meshgrid(X, Y)\n",
        "\n",
        "ceq_f = sp.lambdify(delta, ceq_num_P, modules='numpy')\n",
        "ZZ = ceq_f(XX+1j*YY)\n",
        "\n",
        "plt.contour(XX, YY, np.real(ZZ), [0], colors='r');\n",
        "plt.contour(XX, YY, np.imag(ZZ), [0], colors='b');\n",
        "plt.xlabel(r\"$\\mathfrak{R}\\{\\delta\\}$\");\n",
        "plt.ylabel(r\"$\\mathfrak{I}\\{\\delta\\}$\");\n",
        "#plt.show();\n",
        "#tikzplotlib.save(\"characteristic_roots.tex\", axis_height = '\\figH', axis_width = '\\figW')   # im,re "
      ]
    },
    {
      "cell_type": "code",
      "execution_count": 38,
      "id": "f6f5f0d5",
      "metadata": {},
      "outputs": [
        {
          "name": "stdout",
          "output_type": "stream",
          "text": [
            "--- 0. mode ---\n",
            "eigenvalue = (-204.8276454930922+0j)  \n",
            "eigenvector = [(0.9697323191635941+0j), (-0.2441704920124398+0j)]\n",
            "--- 1. mode ---\n",
            "eigenvalue = (-0.012910896190741171+0j)  \n",
            "eigenvector = [(0.8682438348551128+0j), (-0.4961377260762252+0j)]\n",
            "--- 2. mode ---\n",
            "eigenvalue = (-0.012903346378002107-6.012249185383537j)  \n",
            "eigenvector = [(0.7074140365689353+0j), (0.7065534274602864+0.018644972763910937j)]\n",
            "--- 3. mode ---\n",
            "eigenvalue = (-0.012903346378002107+6.012249185383537j)  \n",
            "eigenvector = [(0.7074140365689353+0j), (0.7065534274602864-0.018644972763910937j)]\n"
          ]
        }
      ],
      "source": [
        "eigenvector_num_P = np.zeros((number_of_eigenvalues, 2), dtype=complex)\n",
        "for mode_n, delta_n in enumerate(eigenvalue_num_P):\n",
        "    EVP_P = evp_num_P.subs(delta, delta_n)\n",
        "    ev0r = np.array([1.0, -EVP_P[0,0].evalf()/EVP_P[0,1].evalf()], dtype=complex)   # first row --> eigenvector\n",
        "    ev0rn = ev0r/np.linalg.norm(ev0r)   # normalize\n",
        "    #ev1r = np.array([1.0, -EVP_P[1,0].evalf()/EVP_P[1,1].evalf()], dtype=complex)   # second row, redundant\n",
        "    #ev1rn = ev1r/np.linalg.norm(ev1r)   # normalize  \n",
        "    print(\"--- {}. mode ---\".format(mode_n))\n",
        "    print(\"eigenvalue = {}  \".format(delta_n))\n",
        "    print(\"eigenvector = [{}, {}]\".format(ev0rn[0], ev0rn[1]))\n",
        "    #print(\"eigenvector = [{}, {}] (redundant)\".format(ev1rn[0], ev1rn[1]))\n",
        "    eigenvector_num_P[mode_n,:] = ev0rn\n",
        "t_scale = 1.0/(np.abs(min(np.imag(eigenvalue_num_P))) + np.abs(min(np.real(eigenvalue_num_P))))"
      ]
    },
    {
      "cell_type": "markdown",
      "id": "35d1e576",
      "metadata": {},
      "source": [
        "#### Visualize modes\n",
        "Real roots lead to real coefficients, slow and fast decay, two of them together can match initial position and initial velocity of one component (either $u_\\mathrm{f}$ or $u_\\mathrm{s}$). Pair of complex-conjugated roots leads to damped oscillations, which can match initial conditions by amplitude and phase shift."
      ]
    },
    {
      "cell_type": "code",
      "execution_count": 39,
      "id": "ea4f0acb",
      "metadata": {},
      "outputs": [],
      "source": [
        "t_modeshow = np.linspace(0, 20*t_scale)\n",
        "timesteps_modeshow = len(t_modeshow)\n",
        "u_f = np.zeros((number_of_eigenvalues, timesteps_modeshow))\n",
        "u_s = np.zeros((number_of_eigenvalues, timesteps_modeshow))\n",
        "\n",
        "for mode_n, delta_n in enumerate(eigenvalue_num_P):\n",
        "    u_f[mode_n,:] = np.real(eigenvector_num_P[mode_n,0]*np.exp(delta_n*t_modeshow))\n",
        "    u_s[mode_n,:] = np.real(eigenvector_num_P[mode_n,1]*np.exp(delta_n*t_modeshow))"
      ]
    },
    {
      "cell_type": "markdown",
      "id": "8e19a5c0",
      "metadata": {},
      "source": [
        "From the solution list above we see that first (0) and second mode (1) correspond to aperiodic decay (real roots), and third and fourth mode to damped oscillations (complex-conjugated roots):"
      ]
    },
    {
      "cell_type": "code",
      "execution_count": 40,
      "id": "0d184bf7",
      "metadata": {},
      "outputs": [
        {
          "data": {
            "image/png": "[encoded data removed]",
            "text/plain": [
              "<Figure size 432x288 with 1 Axes>"
            ]
          },
          "metadata": {
            "needs_background": "light"
          },
          "output_type": "display_data"
        }
      ],
      "source": [
        "plt.plot(t_modeshow,u_f[0,:],'b',   t_modeshow,u_s[0,:],'k');\n",
        "plt.plot(t_modeshow,u_f[1,:],'b--', t_modeshow,u_s[1,:],'k--');\n",
        "plt.xlabel(r\"$t$\");\n",
        "plt.ylabel(r\"$u_f$,$u_s$\");\n",
        "#plt.show();"
      ]
    },
    {
      "cell_type": "markdown",
      "id": "6cffaf7f",
      "metadata": {},
      "source": [
        "Solid motion (black) and fluid (blue) of first mode (solid line) and second mode (dashed line)."
      ]
    },
    {
      "cell_type": "code",
      "execution_count": 41,
      "id": "c601341a",
      "metadata": {},
      "outputs": [
        {
          "data": {
            "image/png": "[encoded data removed]",
            "text/plain": [
              "<Figure size 432x288 with 1 Axes>"
            ]
          },
          "metadata": {
            "needs_background": "light"
          },
          "output_type": "display_data"
        }
      ],
      "source": [
        "plt.plot(t_modeshow, u_f[2,:],'b',   t_modeshow, u_s[2,:],'k');\n",
        "plt.plot(t_modeshow, u_f[3,:],'b--', t_modeshow, u_s[3,:],'k--');\n",
        "plt.xlabel(r\"$t$\");\n",
        "plt.ylabel(r\"$u_f$,$u_s$\");\n",
        "#plt.show();"
      ]
    },
    {
      "cell_type": "markdown",
      "id": "ead6946c",
      "metadata": {},
      "source": [
        "Solid motion (black) and fluid (blue) of third mode (solid line) and fourth mode (dashed line)."
      ]
    },
    {
      "cell_type": "markdown",
      "id": "0ae99c1f",
      "metadata": {},
      "source": [
        "Note: \n",
        "- for complex-conjugated roots the curves of two modes are identical (no difference between dashed line and solid line) \n",
        "- the  waves (oscillations in reduced model) where fluid and solid move in counter-phase decay fast than waves with motion in-phase (physically due to higher dissipation). "
      ]
    },
    {
      "cell_type": "markdown",
      "id": "d7cd6daa",
      "metadata": {},
      "source": [
        "#### Specific initial conditions \n",
        "$U_\\mathrm{f}(0)$, $\\dot{U}_\\mathrm{f}(0)$, $U_\\mathrm{s}(0)$, $\\dot{U}_\\mathrm{s}(0)$"
      ]
    },
    {
      "cell_type": "code",
      "execution_count": 42,
      "id": "7e29a44d",
      "metadata": {},
      "outputs": [],
      "source": [
        "u_f0 = 2.0\n",
        "ut_f0 = 3.0\n",
        "u_s0 = 0.7\n",
        "ut_s0 = 0.5"
      ]
    },
    {
      "cell_type": "code",
      "execution_count": 43,
      "id": "db2adcf8",
      "metadata": {},
      "outputs": [],
      "source": [
        "A = np.matrix([[eigenvector_num_P[mode_n, 0] for mode_n in range(number_of_eigenvalues)],\n",
        "               [eigenvector_num_P[mode_n, 1] for mode_n in range(number_of_eigenvalues)],\n",
        "               [eigenvector_num_P[mode_n, 0]*eigenvalue_num_P[mode_n] for mode_n in range(number_of_eigenvalues)],\n",
        "               [eigenvector_num_P[mode_n, 1]*eigenvalue_num_P[mode_n] for mode_n in range(number_of_eigenvalues)]],\n",
        "              dtype=complex)"
      ]
    },
    {
      "cell_type": "code",
      "execution_count": 44,
      "id": "ed1289bd",
      "metadata": {},
      "outputs": [],
      "source": [
        "b = np.matrix([[u_f0], [u_s0], [ut_f0], [ut_s0]], dtype=complex)"
      ]
    },
    {
      "cell_type": "code",
      "execution_count": 45,
      "id": "413b72e0",
      "metadata": {},
      "outputs": [],
      "source": [
        "amplitude = np.linalg.solve(A, b)   # matrix with one column "
      ]
    },
    {
      "cell_type": "code",
      "execution_count": 46,
      "id": "ef342a8a",
      "metadata": {},
      "outputs": [],
      "source": [
        "u_f_fit = lambda N,T: amplitude[N,0]*eigenvector_num_P[N,0]*np.exp(eigenvalue_num_P[N]*T) \n",
        "u_s_fit = lambda N,T: amplitude[N,0]*eigenvector_num_P[N,1]*np.exp(eigenvalue_num_P[N]*T) "
      ]
    },
    {
      "cell_type": "code",
      "execution_count": 47,
      "id": "e0baceec",
      "metadata": {},
      "outputs": [],
      "source": [
        "t_oscillation = np.linspace(0, 30*t_scale, 250)\n",
        "timesteps_oscillation = len(t_oscillation)\n",
        "u_f_oscillation = np.zeros(timesteps_oscillation, dtype=complex)\n",
        "u_s_oscillation = np.zeros(timesteps_oscillation, dtype=complex)\n",
        "\n",
        "for mode_n in range(number_of_eigenvalues):\n",
        "    u_f_oscillation += u_f_fit(mode_n, t_oscillation)\n",
        "    u_s_oscillation += u_s_fit(mode_n, t_oscillation)"
      ]
    },
    {
      "cell_type": "code",
      "execution_count": 48,
      "id": "0abca9bb",
      "metadata": {},
      "outputs": [
        {
          "data": {
            "image/png": "[encoded data removed]",
            "text/plain": [
              "<Figure size 432x288 with 1 Axes>"
            ]
          },
          "metadata": {
            "needs_background": "light"
          },
          "output_type": "display_data"
        }
      ],
      "source": [
        "plt.plot(t_oscillation,np.real(u_f_oscillation),'b', t_oscillation,np.real(u_s_oscillation),'k');\n",
        "plt.xlabel(r\"$t$\");\n",
        "plt.ylabel(r\"$u_f$, $u_s$\");\n",
        "#plt.show();"
      ]
    },
    {
      "cell_type": "markdown",
      "id": "14e201c8",
      "metadata": {},
      "source": [
        "### Discriminant\n",
        "Discriminant $D_4$ of a quartic equation $ax^4 + bx^3 + cx^2 + dx + e = 0 $. For real coefficients $a,b,c,d,e \\in \\mathbb{R}$\n",
        "- $D_4 = 0$ at least two roots are equal,\n",
        "- $D_4 < 0$ two real roots and one complex-conjugated pair,\n",
        "- $D_4 > 0$ four real roots or two complex-conjugated pairs."
      ]
    },
    {
      "cell_type": "code",
      "execution_count": 49,
      "id": "2a641cc2",
      "metadata": {},
      "outputs": [],
      "source": [
        "quartic_discriminant = lambda a,b,c,d,e: 256 * a**3 * e**3 \\\n",
        "    -192 * a**2 * b * d * e**2 \\\n",
        "    -128 * a**2 * c**2 * e**2 \\\n",
        "    +144 * a**2 * c * d**2 * e \\\n",
        "    -27 * a**2 * d**4 \\\n",
        "    +144 * a * b**2 * c * e**2 \\\n",
        "    -6 * a * b**2 * d**2 * e \\\n",
        "    -80 * a * b * c**2 * d * e \\\n",
        "    +18 * a * b * c * d**3 \\\n",
        "    +16 * a * c**4 *e \\\n",
        "    -4 * a * c**3 * d**2 \\\n",
        "    -27 * b**4 * e**2 \\\n",
        "    +18 * b**3 * c * d * e \\\n",
        "    -4 * b**3 * d**3 \\\n",
        "    -4 * b**2 * c**3 * e \\\n",
        "    + b**2 * c**2 * d**2"
      ]
    },
    {
      "cell_type": "markdown",
      "id": "93c689c4",
      "metadata": {},
      "source": [
        "#### Dependency on MBS parameters"
      ]
    },
    {
      "cell_type": "code",
      "execution_count": 50,
      "id": "10651986",
      "metadata": {},
      "outputs": [],
      "source": [
        "coefficients_mbs_P = ceq_mbs_P.collect(delta, evaluate=False)\n",
        "a4_mbs_P = coefficients_mbs_P[delta**4] \n",
        "a3_mbs_P = coefficients_mbs_P[delta**3] \n",
        "a2_mbs_P = coefficients_mbs_P[delta**2] \n",
        "a1_mbs_P = coefficients_mbs_P[delta] \n",
        "a0_mbs_P = coefficients_mbs_P[sp.S.One] "
      ]
    },
    {
      "cell_type": "code",
      "execution_count": 51,
      "id": "1d539759",
      "metadata": {},
      "outputs": [],
      "source": [
        "D4_mbs = sp.simplify(quartic_discriminant(a4_mbs_P, a3_mbs_P, a2_mbs_P, a1_mbs_P, a0_mbs_P))"
      ]
    },
    {
      "cell_type": "code",
      "execution_count": 52,
      "id": "68dad06b",
      "metadata": {},
      "outputs": [],
      "source": [
        "D4_mbs_num = D4_mbs.subs([(m_1,m_1_num_P), (m_2,m_2_num_P), (m_Delta,m_Delta_num_P), (c_1,c_1_num_P), (c_2,c_2_num_P), (c_Delta, c_Delta_num_P)])\n",
        "D4_mbs_d = sp.lambdify(d_Delta, D4_mbs_num, modules='numpy')"
      ]
    },
    {
      "cell_type": "code",
      "execution_count": 53,
      "id": "01772b89",
      "metadata": {},
      "outputs": [
        {
          "data": {
            "image/png": "[encoded data removed]",
            "text/plain": [
              "<Figure size 432x288 with 1 Axes>"
            ]
          },
          "metadata": {
            "needs_background": "light"
          },
          "output_type": "display_data"
        }
      ],
      "source": [
        "d_Delta_range = np.linspace(0.0, 0.0215*float(d_Delta_num_P))\n",
        "D4_mbs_range = D4_mbs_d(d_Delta_range)\n",
        "plt.plot(d_Delta_range, D4_mbs_range, color='black', linewidth=2);\n",
        "plt.plot([0,0.3],[0, 0], color='gray', linewidth=1);\n",
        "#plt.xlim((0,0.3))\n",
        "#plt.ylim((-2,2))\n",
        "plt.xlabel(r'$d_\\Delta$');\n",
        "plt.ylabel(r'$D_4$');\n",
        "#plt.show();\n",
        "#tikzplotlib.save(\"d_crit.tex\", axis_height = '\\figH', axis_width = '\\figW')   "
      ]
    },
    {
      "cell_type": "markdown",
      "id": "fbdbd7a3",
      "metadata": {},
      "source": [
        "The value of $d_\\Delta$, when the discriminant $D_4$ changes its sign, corresponds to the change from oscillation ($D_4>0$), i.e. slow P-wave exists, to asymptotic decay ($D_4<0$), i.e. no slow P-wave."
      ]
    },
    {
      "cell_type": "code",
      "execution_count": 54,
      "id": "af6b803a",
      "metadata": {},
      "outputs": [
        {
          "name": "stdout",
          "output_type": "stream",
          "text": [
            "critical d_Delta = 0.2353623276385464\n"
          ]
        }
      ],
      "source": [
        "d_Delta_crit_P = fsolve(D4_mbs_d, 0.8)\n",
        "print('critical d_Delta = '+ str(d_Delta_crit_P[0]))"
      ]
    },
    {
      "cell_type": "markdown",
      "id": "76f2628a",
      "metadata": {},
      "source": [
        "The dissipation seems most relevant, as it introduces the asymmetry to the characteristic polynomial, however the precise value of the critical $d_\\Delta$ also depends on other parameters."
      ]
    },
    {
      "cell_type": "markdown",
      "id": "cfd2aed2",
      "metadata": {},
      "source": [
        "### Higher modes"
      ]
    },
    {
      "cell_type": "markdown",
      "id": "1b1625c2",
      "metadata": {},
      "source": [
        "Find wave characteristics for increasing values of eigenfrequencies (higher modes)"
      ]
    },
    {
      "cell_type": "code",
      "execution_count": 55,
      "id": "e39a713d",
      "metadata": {},
      "outputs": [],
      "source": [
        "Nk = 1000\n",
        "# slow P-wave\n",
        "d1 = np.zeros(Nk)   # decay constant\n",
        "c1 = np.zeros(Nk)   # phase velocity approximation\n",
        "f1 = np.zeros(Nk)   # frequency \n",
        "AR1 = np.zeros(Nk)  # amplitude ratio\n",
        "phi1 = np.zeros(Nk) # phase angle  \n",
        "# fast P-wave\n",
        "d2 = np.zeros(Nk)   # decay constant\n",
        "c2 = np.zeros(Nk)   # phase velocity approximation\n",
        "f2 = np.zeros(Nk)   # frequency\n",
        "AR2 = np.zeros(Nk)  # amplitude ratio\n",
        "phi2 = np.zeros(Nk) # phase angle  \n",
        "\n",
        "index_slow = 0      # first and second eigenvalue compose first mode (slow)\n",
        "index_fast = 2      # third and fourth eigenvalue compose first mode (fast) \n",
        "\n",
        "for k_num in range(Nk):\n",
        "    \n",
        "    I_11_num = float(I_11_k.subs(k, k_num))\n",
        "    I_12_num = float(I_12_k.subs(k, k_num))\n",
        "    I_22_num = float(I_22_k.subs(k, k_num))  \n",
        "\n",
        "    # redefine, since I_ij changes with higher modes\n",
        "    nondim_num_k = [(I_11,  I_11_num),\n",
        "                    (I_12,  I_12_num),\n",
        "                    (I_22,  I_22_num),\n",
        "                    (alpha, alpha_num),  \n",
        "                    (M,     M_num),\n",
        "                    (D_P,   D_P_num),\n",
        "                    (n,     n_num),\n",
        "                    (RHO,   RHO_num),\n",
        "                    (tau,   tau_num)]\n",
        "    \n",
        "    ceq_num_P = ceq_nondim_P.subs(nondim_num_k + [(k, k_num)]).evalf()  \n",
        "    eigenvalue_sp = sp.solve(ceq_num_P, delta)\n",
        "    eigenvalue_num = [complex(EVSP) for EVSP in eigenvalue_sp]\n",
        "    \n",
        "    \n",
        "    d1[k_num] = np.real(eigenvalue_num[index_slow])   \n",
        "    omega = np.abs(np.imag(eigenvalue_num[index_slow]))\n",
        "    c1[k_num] = omega/((k_num+1/2)*np.pi)   \n",
        "    f1[k_num] = omega/(2*np.pi)\n",
        "    \n",
        "    d2[k_num] = np.real(eigenvalue_num[index_fast])   \n",
        "    omega = np.abs(np.imag(eigenvalue_num[index_fast]))\n",
        "    c2[k_num] = omega/((k_num+1/2)*np.pi)   \n",
        "    f2[k_num] = omega/(2*np.pi)\n",
        "    \n",
        "    evp_num_P = evp_nondim_P.subs(nondim_num_k + [(k, k_num)]).evalf()\n",
        "    \n",
        "    EVP = evp_num_P.subs(delta, eigenvalue_num[index_slow])\n",
        "    evkr = np.array([1.0, -EVP[0,0].evalf()/EVP[0,1].evalf()], dtype=complex)   # first row --> eigenvector\n",
        "    us_uf = evkr[1]/evkr[0]   # TODO exclude division by zero\n",
        "    AR1[k_num] = 1.0/np.absolute(us_uf)   # fluid-to-solid\n",
        "    phi1[k_num] = np.angle(us_uf)   # np.abs(np.angle(us_uf))\n",
        "    \n",
        "    EVP = evp_num_P.subs(delta, eigenvalue_num[index_fast])\n",
        "    evkr = np.array([1.0, -EVP[0,0].evalf()/EVP[0,1].evalf()], dtype=complex)   # first row --> eigenvector\n",
        "    us_uf = evkr[1]/evkr[0]   # TODO exclude division by zero\n",
        "    AR2[k_num] = 1.0/np.absolute(us_uf)  # fluid-to-solid\n",
        "    phi2[k_num] = np.angle(us_uf)   # np.abs(np.angle(us_uf))"
      ]
    },
    {
      "cell_type": "markdown",
      "id": "d78de00c",
      "metadata": {},
      "source": [
        "Slow P-waves may exist only above a threshold frequency (depending on parameters, particularly dissipation). Maybe the actual threshold frequency is lower, but cannot be resolved more accurately by an integer number of modes."
      ]
    },
    {
      "cell_type": "code",
      "execution_count": 56,
      "id": "728f1e67",
      "metadata": {},
      "outputs": [
        {
          "name": "stdout",
          "output_type": "stream",
          "text": [
            "Slow P-waves exist from 31. mode on corresponding to a frequency of f = 3.7815127464432794\n"
          ]
        }
      ],
      "source": [
        "nonzero_f = f1.nonzero();    # only when there is an frequency (wave exists)\n",
        "index_first_nonzero_f = nonzero_f[0][0]\n",
        "print(\"Slow P-waves exist from {}. mode on corresponding to a frequency of f = {}\".format(index_first_nonzero_f+1, f1[index_first_nonzero_f]))"
      ]
    },
    {
      "cell_type": "markdown",
      "id": "0c8384a8",
      "metadata": {},
      "source": [
        "Characteristics of slow P-waves"
      ]
    },
    {
      "cell_type": "code",
      "execution_count": 57,
      "id": "fa62ebee",
      "metadata": {},
      "outputs": [
        {
          "data": {
            "image/png": "[encoded data removed]",
            "text/plain": [
              "<Figure size 432x288 with 2 Axes>"
            ]
          },
          "metadata": {
            "needs_background": "light"
          },
          "output_type": "display_data"
        },
        {
          "data": {
            "image/png": "[encoded data removed]",
            "text/plain": [
              "<Figure size 432x288 with 2 Axes>"
            ]
          },
          "metadata": {
            "needs_background": "light"
          },
          "output_type": "display_data"
        }
      ],
      "source": [
        "fig3, ax5 = plt.subplots();\n",
        "ax6 = ax5.twinx();\n",
        "ax5.semilogx(f1[nonzero_f], c1[nonzero_f], 'g');\n",
        "ax6.semilogx(f1[nonzero_f], np.abs(d1[nonzero_f])/f1[nonzero_f], 'b');   # frequency may be zero so decay instead of damping ratio\n",
        "ax5.set_xlabel(r'frequency');\n",
        "#ax5.set_ylim([0, 1])\n",
        "ax5.set_xticks(list(ax5.get_xticks()) + [f_characteristic_num], list(ax5.get_xticklabels()) + ['$f_c$'])   # with extra tick\n",
        "ax5.set_ylabel(r'phase velocity', color='g');\n",
        "ax6.set_ylabel(r'decay constant', color='b');   \n",
        "#ax6.set_ylim([0, 10])\n",
        "#tikzplotlib.save(\"p_wave_slow_eigenvalue.tex\", axis_height = '\\figH', axis_width = '\\figW')   \n",
        "\n",
        "fig4, ax7 = plt.subplots();\n",
        "ax8 = ax7.twinx();\n",
        "ax7.semilogx(f1[nonzero_f], AR1[nonzero_f], 'g');\n",
        "ax8.semilogx(f1[nonzero_f], phi1[nonzero_f], 'b');\n",
        "ax7.set_xlabel(r'frequency');\n",
        "#ax7.set_ylim([0,2.5])\n",
        "ax7.set_xticks(list(ax7.get_xticks()) + [f_characteristic_num], list(ax7.get_xticklabels()) + ['$f_c$'])   # with extra tick\n",
        "ax7.set_ylabel(r'amplitude ratio', color='g');\n",
        "ax8.set_ylabel(r'phase angle [RAD]', color='b');\n",
        "#ax8.set_ylim([-1.2,0])\n",
        "#tikzplotlib.save(\"p_wave_slow_eigenvector.tex\", axis_height = '\\figH', axis_width = '\\figW') "
      ]
    },
    {
      "cell_type": "markdown",
      "id": "2d0c5b13",
      "metadata": {},
      "source": [
        "Characteristics of fast P-waves"
      ]
    },
    {
      "cell_type": "code",
      "execution_count": 58,
      "id": "c987bd6b",
      "metadata": {},
      "outputs": [
        {
          "name": "stdout",
          "output_type": "stream",
          "text": [
            "nondimensional c_un_P = 3.82730207927597\n"
          ]
        },
        {
          "data": {
            "image/png": "[encoded data removed]",
            "text/plain": [
              "<Figure size 432x288 with 2 Axes>"
            ]
          },
          "metadata": {
            "needs_background": "light"
          },
          "output_type": "display_data"
        },
        {
          "data": {
            "image/png": "[encoded data removed]",
            "text/plain": [
              "<Figure size 432x288 with 2 Axes>"
            ]
          },
          "metadata": {
            "needs_background": "light"
          },
          "output_type": "display_data"
        }
      ],
      "source": [
        "print(\"nondimensional c_un_P = {}\".format(c_un_P_num/c_el_P_num))\n",
        "\n",
        "fig5, ax9 = plt.subplots();\n",
        "ax10 = ax9.twinx();\n",
        "ax9.semilogx(f2, c2, 'g');\n",
        "ax10.semilogx(f2, np.abs(d2)/f2, 'b');\n",
        "#ax9.set_ylim([0,2])\n",
        "ax9.set_xlabel(r'frequency');\n",
        "ax9.set_xticks(list(ax9.get_xticks()) + [f_characteristic_num], list(ax9.get_xticklabels()) + ['$f_c$'])   # with extra tick\n",
        "ax9.set_ylabel(r'phase velocity', color='g');\n",
        "ax10.set_ylabel(r'decay constant', color='b');\n",
        "#ax10.set_ylim([0,1.2e-5])\n",
        "#tikzplotlib.save(\"p_wave_fast_eigenvalue.tex\", axis_height = '\\figH', axis_width = '\\figW')   \n",
        "\n",
        "fig6, ax11 = plt.subplots();\n",
        "ax12 = ax11.twinx();\n",
        "#ax11.set_ylim([0,1])\n",
        "ax11.semilogx(f2, AR2, 'g');\n",
        "ax12.semilogx(f2, phi2, 'b');\n",
        "ax11.set_xlabel(r'frequency');\n",
        "#ax12.set_ylim([-1.0,0])\n",
        "ax11.set_xticks(list(ax11.get_xticks()) + [f_characteristic_num], list(ax11.get_xticklabels()) + ['$f_c$'])   # with extra tick\n",
        "ax11.set_ylabel(r'amplitude ratio', color='g');\n",
        "ax12.set_ylabel(r'phase angle [RAD]', color='b');\n",
        "#tikzplotlib.save(\"p_wave_fast_eigenvector.tex\", axis_height = '\\figH', axis_width = '\\figW') "
      ]
    },
    {
      "cell_type": "markdown",
      "id": "79c44a23",
      "metadata": {},
      "source": [
        "Numbers for TikZ-plots (complex amplitudes and time history)"
      ]
    },
    {
      "cell_type": "code",
      "execution_count": 59,
      "id": "11a55570",
      "metadata": {},
      "outputs": [
        {
          "name": "stdout",
          "output_type": "stream",
          "text": [
            "30\n",
            "--\n",
            "3.7815127464432794\n",
            "23.951735298792855\n",
            "-0.5497164147632475\n",
            "-0.011182524789751964\n",
            "--\n",
            "61.80646848927272\n",
            "0.19187941811069834\n",
            "0.5013781513666287\n",
            "-0.1592354367022788\n"
          ]
        }
      ],
      "source": [
        "k_num = index_first_nonzero_f   # first mode with slow P-wave\n",
        "print(k_num)\n",
        "print('--')\n",
        "print(f1[k_num])\n",
        "print(-d1[k_num]/f1[k_num])   # delta, with time axis scaled to period\n",
        "print((1/AR1[k_num])*np.cos(-phi1[k_num])) # u_solid, real part, with u_fluid = 1\n",
        "print((1/AR1[k_num])*np.sin(-phi1[k_num])) # u_solid, imaginary part, with u_fluid = 1\n",
        "print('--')\n",
        "print(f2[k_num])\n",
        "print(-d2[k_num]/f2[k_num])   # delta, with time axis scaled to period\n",
        "print(1/AR2[k_num]*np.cos(-phi2[k_num])) # u_solid, real part, with u_fluid = 1\n",
        "print(1/AR2[k_num]*np.sin(-phi2[k_num])) # u_solid, imaginary part, with u_fluid = 1"
      ]
    },
    {
      "cell_type": "markdown",
      "id": "924d9256",
      "metadata": {},
      "source": [
        "## References\n",
        "- \\[Biot1956\\]   M.A. Biot; _Theory of Propagation of Elastic Waves in a Fluid-saturated Porous Solid -- I. Low-frequency Range_; Journal of the Acoustical Society of America 28(2); 1956.\n",
        "- \\[Verruijt2010\\]   A. Verruijt; _An Introduction to Soil Dynamics_; Springer Dordrecht Heidelberg London New York; 2010.\n",
        "- \\[Hagedorn2012\\] P. Hagedorn, D. Hochlehnert; _Technische Schwingungslehre: Schwingungen linearer diskreter mechanischer Systeme_; Europa-Lehrmittel, 2021."
      ]
    }
  ],
  "metadata": {
    "kernelspec": {
      "display_name": "Python 3 (ipykernel)",
      "language": "python",
      "name": "python3"
    },
    "language_info": {
      "codemirror_mode": {
        "name": "ipython",
        "version": 3
      },
      "file_extension": ".py",
      "mimetype": "text/x-python",
      "name": "python",
      "nbconvert_exporter": "python",
      "pygments_lexer": "ipython3",
      "version": "3.10.12"
    }
  },
  "nbformat": 4,
  "nbformat_minor": 5
}