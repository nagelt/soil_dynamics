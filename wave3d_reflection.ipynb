{
  "cells": [
    {
      "cell_type": "markdown",
      "metadata": {
        "deletable": false,
        "editable": false
      },
      "source": [
        "<div style=\"display: flex; align-items: center;\">\n",
        "    <img src=\"https://github.com/nagelt/Teaching_Scripts/raw/9d9e29ecca4b04eaf7397938eacbf116d37ddc93/Images/TUBAF_Logo_blau.png\" width=\"500\" height=\"auto\" height=\"auto\" style=\"margin-right: 100px;\" />\n",
        "    <div>\n",
        "        <p><strong>Prof. Dr. Thomas Nagel</strong></p>\n",
        "        <p>Chair of Soil Mechanics and Foundation Engineering<br>Geotechnical Institute<br>Technische Universität Bergakademie Freiberg.</p>\n",
        "        <p><a href=\"https://tu-freiberg.de/en/soilmechanics\">https://tu-freiberg.de/en/soilmechanics</a></p>\n",
        "    </div>\n",
        "</div>"
      ]
    },
    {
      "cell_type": "markdown",
      "metadata": {},
      "source": [
        "# Elastodynamik 3D"
      ]
    },
    {
      "cell_type": "markdown",
      "metadata": {},
      "source": [
        "Module laden"
      ]
    },
    {
      "cell_type": "code",
      "execution_count": 1,
      "metadata": {},
      "outputs": [],
      "source": [
        "from IPython.display import display, Math, Latex\n",
        "import sympy as sp\n",
        "import numpy as np\n",
        "import matplotlib.pyplot as plt\n",
        "from ipywidgets import widgets\n",
        "from ipywidgets import interact\n",
        "from sympy.interactive import printing\n",
        "import plot_functions.plot_settings\n",
        "%run plot_functions/wave3d_reflection_interaction.ipynb\n",
        "printing.init_printing(use_latex='mathjax')"
      ]
    },
    {
      "cell_type": "markdown",
      "metadata": {},
      "source": [
        "_Last line enables special comment **##:** for LaTeX formatting of output_ "
      ]
    },
    {
      "cell_type": "markdown",
      "metadata": {},
      "source": [
        "## Reflexion einer P-Welle am freien Rand"
      ]
    },
    {
      "cell_type": "markdown",
      "metadata": {},
      "source": [
        "![wave3d_freeBC.svg](https://github.com/nagelt/soil_dynamics/raw/master/Images/wave3d_freeBC.svg)"
      ]
    },
    {
      "cell_type": "markdown",
      "metadata": {},
      "source": [
        "Variablen für symbolische Rechnung (sympy) deklarieren"
      ]
    },
    {
      "cell_type": "code",
      "execution_count": 2,
      "metadata": {},
      "outputs": [],
      "source": [
        "mu, Lambda, alpha, beta, AP_in, AP_re, AS_re, kappa_P, kappa_S, c_P, c_S, x,y,z,t = sp.symbols('mu Lambda alpha beta AP_in AP_re AS_re kappa_P kappa_S c_P c_S x y z t')"
      ]
    },
    {
      "cell_type": "markdown",
      "metadata": {},
      "source": [
        "Phasen der einfallenden P-Welle, der reflektierten P-Welle und der reflektierten SH-Welle"
      ]
    },
    {
      "cell_type": "code",
      "execution_count": 3,
      "metadata": {},
      "outputs": [],
      "source": [
        "phase_Pin = sp.I*kappa_P*(x*sp.sin(alpha) + y*sp.cos(alpha) - c_P*t)\n",
        "phase_Pre = sp.I*kappa_P*(x*sp.sin(alpha) - y*sp.cos(alpha) - c_P*t)\n",
        "phase_Sre = sp.I*kappa_S*(x*sp.sin( beta) - y*sp.cos( beta) - c_S*t)"
      ]
    },
    {
      "cell_type": "markdown",
      "metadata": {},
      "source": [
        "Komplexe Darstellung der Wellenausbreitung aller drei Wellen"
      ]
    },
    {
      "cell_type": "code",
      "execution_count": 4,
      "metadata": {},
      "outputs": [],
      "source": [
        "eP_in = AP_in * sp.exp(phase_Pin)\n",
        "eP_re = AP_re * sp.exp(phase_Pre)\n",
        "eS_re = AS_re * sp.exp(phase_Sre)"
      ]
    },
    {
      "cell_type": "markdown",
      "metadata": {},
      "source": [
        "Veschiebungen (x,y) der drei Wellenfelder"
      ]
    },
    {
      "cell_type": "code",
      "execution_count": 5,
      "metadata": {},
      "outputs": [],
      "source": [
        "uP_in = sp.sin(alpha) * eP_in\n",
        "uP_re = sp.sin(alpha) * eP_re\n",
        "uS_re = sp.cos( beta) * eS_re"
      ]
    },
    {
      "cell_type": "code",
      "execution_count": 6,
      "metadata": {},
      "outputs": [],
      "source": [
        "vP_in = sp.cos(alpha) * eP_in\n",
        "vP_re =-sp.cos(alpha) * eP_re\n",
        "vS_re = sp.sin( beta) * eS_re"
      ]
    },
    {
      "cell_type": "markdown",
      "metadata": {},
      "source": [
        "Spannungen $\\sigma_{xy}$ und $\\sigma_{yy}$, die relevant für die Reflexion sind"
      ]
    },
    {
      "cell_type": "code",
      "execution_count": 7,
      "metadata": {},
      "outputs": [],
      "source": [
        "sigma_xy_Pin = mu*( sp.diff(uP_in, y) + sp.diff(vP_in, x) )\n",
        "sigma_xy_Pre = mu*( sp.diff(uP_re, y) + sp.diff(vP_re, x) )\n",
        "sigma_xy_Sre = mu*( sp.diff(uS_re, y) + sp.diff(vS_re, x) )"
      ]
    },
    {
      "cell_type": "code",
      "execution_count": 8,
      "metadata": {},
      "outputs": [],
      "source": [
        "sigma_yy_Pin = (2*mu+Lambda)*sp.diff(vP_in, y) + Lambda*sp.diff(uP_in, x)\n",
        "sigma_yy_Pre = (2*mu+Lambda)*sp.diff(vP_re, y) + Lambda*sp.diff(uP_re, x)\n",
        "sigma_yy_Sre = (2*mu+Lambda)*sp.diff(vS_re, y) + Lambda*sp.diff(uS_re, x)"
      ]
    },
    {
      "cell_type": "markdown",
      "metadata": {},
      "source": [
        "Auswertung der Spannungen am Rand"
      ]
    },
    {
      "cell_type": "code",
      "execution_count": 9,
      "metadata": {},
      "outputs": [],
      "source": [
        "sigma_xy_BC = sp.simplify( sigma_xy_Pin*sp.exp(-phase_Pin)/sp.I + sigma_xy_Pre*sp.exp(-phase_Pre)/sp.I + sigma_xy_Sre*sp.exp(-phase_Sre)/sp.I)\n",
        "sigma_yy_BC = sp.simplify( sigma_yy_Pin*sp.exp(-phase_Pin)/sp.I + sigma_yy_Pre*sp.exp(-phase_Pre)/sp.I + sigma_yy_Sre*sp.exp(-phase_Sre)/sp.I)"
      ]
    },
    {
      "cell_type": "code",
      "execution_count": 10,
      "metadata": {},
      "outputs": [
        {
          "data": {
            "text/latex": [
              "$\\displaystyle \\sigma_{xy}^\\mathrm{BC}=\\mu \\left(AP_{in} \\kappa_{P} \\sin{\\left(2 \\alpha \\right)} - AP_{re} \\kappa_{P} \\sin{\\left(2 \\alpha \\right)} - AS_{re} \\kappa_{S} \\cos{\\left(2 \\beta \\right)}\\right)$"
            ],
            "text/plain": [
              "<IPython.core.display.Math object>"
            ]
          },
          "metadata": {},
          "output_type": "display_data"
        },
        {
          "data": {
            "text/latex": [
              "$\\displaystyle \\sigma_{yy}^\\mathrm{BC}=AP_{in} \\kappa_{P} \\left(\\Lambda + 2 \\mu \\cos^{2}{\\left(\\alpha \\right)}\\right) + AP_{re} \\kappa_{P} \\left(\\Lambda + 2 \\mu \\cos^{2}{\\left(\\alpha \\right)}\\right) - AS_{re} \\kappa_{S} \\mu \\sin{\\left(2 \\beta \\right)}$"
            ],
            "text/plain": [
              "<IPython.core.display.Math object>"
            ]
          },
          "metadata": {},
          "output_type": "display_data"
        }
      ],
      "source": [
        "display(Math(r'\\sigma_{xy}^\\mathrm{BC}=' + sp.latex(sigma_xy_BC))) \n",
        "display(Math(r'\\sigma_{yy}^\\mathrm{BC}=' + sp.latex(sigma_yy_BC))) "
      ]
    },
    {
      "cell_type": "markdown",
      "metadata": {},
      "source": [
        "Gleichungssystem der Randbedingungen (freier Rand) nach den Amplituden der reflektierten Wellen lösen"
      ]
    },
    {
      "cell_type": "code",
      "execution_count": 11,
      "metadata": {},
      "outputs": [
        {
          "data": {
            "image/png": "[encoded data removed]",
            "text/latex": [
              "$\\displaystyle \\left\\{ AP_{re} : \\frac{AP_{in} \\left(\\mu \\sin{\\left(2 \\alpha \\right)} \\sin{\\left(2 \\beta \\right)} - \\left(\\Lambda + 2 \\mu \\cos^{2}{\\left(\\alpha \\right)}\\right) \\cos{\\left(2 \\beta \\right)}\\right)}{\\mu \\sin{\\left(2 \\alpha \\right)} \\sin{\\left(2 \\beta \\right)} + \\left(\\Lambda + 2 \\mu \\cos^{2}{\\left(\\alpha \\right)}\\right) \\cos{\\left(2 \\beta \\right)}}, \\  AS_{re} : \\frac{2 AP_{in} \\kappa_{P} \\left(\\Lambda + 2 \\mu \\cos^{2}{\\left(\\alpha \\right)}\\right) \\sin{\\left(2 \\alpha \\right)}}{\\kappa_{S} \\left(\\mu \\sin{\\left(2 \\alpha \\right)} \\sin{\\left(2 \\beta \\right)} + \\left(\\Lambda + 2 \\mu \\cos^{2}{\\left(\\alpha \\right)}\\right) \\cos{\\left(2 \\beta \\right)}\\right)}\\right\\}$"
            ],
            "text/plain": [
              "⎧           ⎛                      ⎛           2   ⎞         ⎞                \n",
              "⎪      APᵢₙ⋅⎝μ⋅sin(2⋅α)⋅sin(2⋅β) - ⎝Λ + 2⋅μ⋅cos (α)⎠⋅cos(2⋅β)⎠                \n",
              "⎨APᵣₑ: ───────────────────────────────────────────────────────, ASᵣₑ: ────────\n",
              "⎪                                ⎛           2   ⎞                        ⎛   \n",
              "⎩          μ⋅sin(2⋅α)⋅sin(2⋅β) + ⎝Λ + 2⋅μ⋅cos (α)⎠⋅cos(2⋅β)           κ_S⋅⎝μ⋅s\n",
              "\n",
              "           ⎛           2   ⎞                  ⎫\n",
              "2⋅APᵢₙ⋅κ_P⋅⎝Λ + 2⋅μ⋅cos (α)⎠⋅sin(2⋅α)         ⎪\n",
              "──────────────────────────────────────────────⎬\n",
              "                   ⎛           2   ⎞         ⎞⎪\n",
              "in(2⋅α)⋅sin(2⋅β) + ⎝Λ + 2⋅μ⋅cos (α)⎠⋅cos(2⋅β)⎠⎭"
            ]
          },
          "metadata": {},
          "output_type": "display_data"
        }
      ],
      "source": [
        "solution = sp.solve( [sigma_xy_BC, sigma_yy_BC], [AP_re, AS_re] )\n",
        "for sol in solution:\n",
        "    solution[sol] = solution[sol].simplify()\n",
        "display(solution)"
      ]
    },
    {
      "cell_type": "markdown",
      "metadata": {},
      "source": [
        "Grafische Darstellung der Reflexion"
      ]
    },
    {
      "cell_type": "code",
      "execution_count": 12,
      "metadata": {},
      "outputs": [
        {
          "data": {
            "application/vnd.jupyter.widget-view+json": {
              "model_id": "82d8f1b783ca49aabb8f511763f45d17",
              "version_major": 2,
              "version_minor": 0
            },
            "text/plain": [
              "interactive(children=(IntSlider(value=45, description=r'$\\alpha$ [°]:', max=90), IntSlider(value=25, descripti…"
            ]
          },
          "metadata": {},
          "output_type": "display_data"
        }
      ],
      "source": [
        "interactive_reflection_plot()  "
      ]
    },
    {
      "cell_type": "markdown",
      "metadata": {},
      "source": [
        "Frage: In welchem Fall wird nur eine P-Welle reflektiert und in welchem nur eine S-Welle?"
      ]
    }
  ],
  "metadata": {
    "kernelspec": {
      "display_name": "Python 3 (ipykernel)",
      "language": "python",
      "name": "python3"
    },
    "language_info": {
      "codemirror_mode": {
        "name": "ipython",
        "version": 3
      },
      "file_extension": ".py",
      "mimetype": "text/x-python",
      "name": "python",
      "nbconvert_exporter": "python",
      "pygments_lexer": "ipython3",
      "version": "3.9.18"
    },
    "widgets": {
      "application/vnd.jupyter.widget-state+json": {
        "state": {},
        "version_major": 2,
        "version_minor": 0
      }
    }
  },
  "nbformat": 4,
  "nbformat_minor": 4
}