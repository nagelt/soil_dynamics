{
 "cells": [
  {
   "cell_type": "markdown",
   "metadata": {
    "deletable": false,
    "editable": false
   },
   "source": [
    "![Logo TUBAF](https://tu-freiberg.de/sites/default/files/media/freiberger-alumni-netzwerk-6127/wbm_orig_rgb_0.jpg)\n",
    "\n",
    "Exercise material of the MSc-level course **Soil Dynamics**.\n",
    "Held at Technische Universität Bergakademie Freiberg.\n",
    "\n",
    "Comments to:\n",
    "\n",
    "*Prof. Dr. Thomas Nagel  \n",
    "Chair of Soil Mechanics and Foundation Engineering  \n",
    "Geotechnical Institute  \n",
    "Technische Universität Bergakademie Freiberg.*\n",
    "\n",
    "https://tu-freiberg.de/en/soilmechanics\n"
   ]
  },
  {
   "cell_type": "markdown",
   "metadata": {},
   "source": [
    "# Erdbebensicheres Bauen"
   ]
  },
  {
   "cell_type": "markdown",
   "metadata": {},
   "source": [
    "Module laden"
   ]
  },
  {
   "cell_type": "code",
   "execution_count": 1,
   "metadata": {},
   "outputs": [],
   "source": [
    "import numpy as np\n",
    "import matplotlib.pyplot as plt"
   ]
  },
  {
   "cell_type": "markdown",
   "metadata": {},
   "source": [
    "## Erdbebenersatzkraft nach dem Bemessungsspektrum"
   ]
  },
  {
   "cell_type": "markdown",
   "metadata": {},
   "source": [
    "abschnittsweise definiert"
   ]
  },
  {
   "cell_type": "code",
   "execution_count": 2,
   "metadata": {},
   "outputs": [],
   "source": [
    "def ers(T, p):\n",
    "    \n",
    "    if T < 0:\n",
    "        Sd = 0\n",
    "        print(\"Warning, unphysical period\")\n",
    "    elif T < p[\"TB\"]:\n",
    "        Sd = p[\"agR\"]*p[\"gl\"]*p[\"S\"]*(1+(T/p[\"TB\"])*(2.5/p[\"q\"] - 1))\n",
    "    elif T < p[\"TC\"]:\n",
    "        Sd = p[\"agR\"]*p[\"gl\"]*p[\"S\"]*2.5/p[\"q\"]\n",
    "    elif T < p[\"TD\"]:\n",
    "        Sd = p[\"agR\"]*p[\"gl\"]*p[\"S\"]*(2.5/p[\"q\"])*p[\"TC\"]/T\n",
    "    else:\n",
    "        Sd = p[\"agR\"]*p[\"gl\"]*p[\"S\"]*(2.5/p[\"q\"])*p[\"TC\"]*p[\"TD\"]/(T**2)\n",
    "    \n",
    "    if Sd < 0:\n",
    "        Sd = 0\n",
    "        print(\"Warning, negative Sd value encountered\")\n",
    "    \n",
    "    return Sd"
   ]
  },
  {
   "cell_type": "markdown",
   "metadata": {},
   "source": [
    "Parameter des Bemessungsspektrums festlegen"
   ]
  },
  {
   "cell_type": "code",
   "execution_count": 3,
   "metadata": {},
   "outputs": [],
   "source": [
    "para = {\"agR\": 0.8, \"gl\": 1.2, \"q\": 1.5, \"S\": 1.25, \"TB\": 0.05, \"TC\": 0.25, \"TD\": 2.0}        "
   ]
  },
  {
   "cell_type": "markdown",
   "metadata": {},
   "source": [
    "Grafische Darstellung"
   ]
  },
  {
   "cell_type": "code",
   "execution_count": 4,
   "metadata": {},
   "outputs": [
    {
     "data": {
      "image/png": "[encoded data removed]",
      "text/plain": [
       "<Figure size 432x288 with 1 Axes>"
      ]
     },
     "metadata": {
      "needs_background": "light"
     },
     "output_type": "display_data"
    }
   ],
   "source": [
    "Tgrid = np.linspace(0, 5)\n",
    "Sgrid = [ers(TT, para) for TT in Tgrid]       \n",
    "Tgrid\n",
    "plt.plot(Tgrid, Sgrid)\n",
    "plt.xlabel(\"$T$ [s]\")\n",
    "plt.ylabel(\"$S_d$ [m/s$^2$]\")\n",
    "plt.show()"
   ]
  },
  {
   "cell_type": "markdown",
   "metadata": {},
   "source": [
    "Eigenperiode des Gebäudes schätzen"
   ]
  },
  {
   "cell_type": "code",
   "execution_count": 5,
   "metadata": {},
   "outputs": [
    {
     "name": "stdout",
     "output_type": "stream",
     "text": [
      "T1=0.1917 s\n"
     ]
    }
   ],
   "source": [
    "h = 6.0\n",
    "Ct = 0.05\n",
    "T1 = Ct*h**(3/4) \n",
    "print(\"T1={:6.4f} s\".format(T1))"
   ]
  },
  {
   "cell_type": "markdown",
   "metadata": {},
   "source": [
    "Erdbebenersatzkraft berechnen"
   ]
  },
  {
   "cell_type": "code",
   "execution_count": 6,
   "metadata": {},
   "outputs": [
    {
     "name": "stdout",
     "output_type": "stream",
     "text": [
      "F1=160.0000 kN, q1max=53.3333 kN/m\n"
     ]
    }
   ],
   "source": [
    "Sd1 = ers(T1, para)\n",
    "m = 80e3\n",
    "gamma = 1.0\n",
    "F1 = Sd1*m*gamma\n",
    "print(\"F1={:6.4f} kN, q1max={:6.4f} kN/m\".format(F1/1e3, F1*2e-3/h)) "
   ]
  }
 ],
 "metadata": {
  "kernelspec": {
   "display_name": "Python 3",
   "language": "python",
   "name": "python3"
  },
  "language_info": {
   "codemirror_mode": {
    "name": "ipython",
    "version": 3
   },
   "file_extension": ".py",
   "mimetype": "text/x-python",
   "name": "python",
   "nbconvert_exporter": "python",
   "pygments_lexer": "ipython3",
   "version": "3.8.10"
  }
 },
 "nbformat": 4,
 "nbformat_minor": 4
}
