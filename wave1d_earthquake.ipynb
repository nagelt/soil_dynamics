{
  "cells": [
    {
      "cell_type": "markdown",
      "metadata": {
        "deletable": false,
        "editable": false
      },
      "source": [
        "<div style=\"display: flex; align-items: center;\">\n",
        "    <img src=\"https://github.com/nagelt/Teaching_Scripts/raw/9d9e29ecca4b04eaf7397938eacbf116d37ddc93/Images/TUBAF_Logo_blau.png\" width=\"500\" height=\"auto\" height=\"auto\" style=\"margin-right: 100px;\" />\n",
        "    <div>\n",
        "        <p><strong>Prof. Dr. Thomas Nagel</strong></p>\n",
        "        <p>Chair of Soil Mechanics and Foundation Engineering<br>Geotechnical Institute<br>Technische Universität Bergakademie Freiberg.</p>\n",
        "        <p><a href=\"https://tu-freiberg.de/en/soilmechanics\">https://tu-freiberg.de/en/soilmechanics</a></p>\n",
        "    </div>\n",
        "</div>"
      ]
    },
    {
      "cell_type": "markdown",
      "metadata": {},
      "source": [
        "# Erdbebenwirkung in weichen Bodenschichten"
      ]
    },
    {
      "cell_type": "markdown",
      "metadata": {},
      "source": [
        "Module laden"
      ]
    },
    {
      "cell_type": "code",
      "execution_count": 7,
      "metadata": {},
      "outputs": [],
      "source": [
        "import sympy as sp\n",
        "import numpy as np\n",
        "from scipy.optimize import fsolve\n",
        "import matplotlib.pyplot as plt\n",
        "from ipywidgets import widgets\n",
        "from ipywidgets import interact\n",
        "from sympy.interactive import printing\n",
        "import plot_functions.plot_settings\n",
        "%run plot_functions/wave1d_earthquake_interaction.ipynb\n",
        "printing.init_printing(use_latex='mathjax')\n",
        "#%load_ext ipydex.displaytools"
      ]
    },
    {
      "cell_type": "markdown",
      "metadata": {},
      "source": [
        "_Last line enables special comment **##:** for LaTeX formatting of output_ "
      ]
    },
    {
      "cell_type": "markdown",
      "metadata": {},
      "source": [
        "## Stationärer Zustand"
      ]
    },
    {
      "cell_type": "markdown",
      "metadata": {},
      "source": [
        "![wavebar_earthquake.png](https://github.com/nagelt/soil_dynamics/raw/master/Images/wavebar_earthquake.png)"
      ]
    },
    {
      "cell_type": "markdown",
      "metadata": {},
      "source": [
        "Variablen für symbolische Rechnung deklarieren (sympy)"
      ]
    },
    {
      "cell_type": "code",
      "execution_count": 8,
      "metadata": {},
      "outputs": [],
      "source": [
        "kappa, kappa2, omega, x, z, t, C1, C2, h, d, u0= sp.symbols('kappa kappa2 omega x z t C1 C2 h d u0')"
      ]
    },
    {
      "cell_type": "markdown",
      "metadata": {},
      "source": [
        "Ansatz   $w(x,z,t)=f(z)\\sin(\\omega t - \\kappa_2 x)$"
      ]
    },
    {
      "cell_type": "code",
      "execution_count": 9,
      "metadata": {},
      "outputs": [],
      "source": [
        "f = C1*sp.cos(kappa*z) + C2*sp.sin(kappa*z)\n",
        "dfdz = f.diff(z)"
      ]
    },
    {
      "cell_type": "markdown",
      "metadata": {},
      "source": [
        "Koeffizienten $C_1$ und $C_2$ aus den Randbedingungen bestimmen: diskrete Randmasse oben, Verschiebungsverlauf unten."
      ]
    },
    {
      "cell_type": "code",
      "execution_count": 10,
      "metadata": {},
      "outputs": [],
      "source": [
        "c = omega/kappa\n",
        "BCtop = (c**2)*dfdz.subs(z, 0) + (d*omega**2)*f.subs(z, 0)\n",
        "BCbottom = f.subs(z, h) - u0\n",
        "BCsol=sp.solve([BCtop, BCbottom], C1, C2)"
      ]
    },
    {
      "cell_type": "markdown",
      "metadata": {},
      "source": [
        "Einsetzen der Lösung"
      ]
    },
    {
      "cell_type": "code",
      "execution_count": 12,
      "metadata": {},
      "outputs": [
        {
          "data": {
            "text/latex": [
              "$\\displaystyle \\frac{u_{0} \\left(- d \\kappa \\sin{\\left(\\kappa z \\right)} + \\cos{\\left(\\kappa z \\right)}\\right) \\sin{\\left(\\kappa_{2} x - \\omega t \\right)}}{d \\kappa \\sin{\\left(h \\kappa \\right)} - \\cos{\\left(h \\kappa \\right)}}$"
            ],
            "text/plain": [
              "u₀⋅(-d⋅κ⋅sin(κ⋅z) + cos(κ⋅z))⋅sin(κ₂⋅x - ω⋅t)\n",
              "─────────────────────────────────────────────\n",
              "           d⋅κ⋅sin(h⋅κ) - cos(h⋅κ)           "
            ]
          },
          "execution_count": 12,
          "metadata": {},
          "output_type": "execute_result"
        }
      ],
      "source": [
        "fsol = f.subs([(C1, BCsol[C1]), (C2, BCsol[C2])])\n",
        "wsol = sp.simplify(fsol*sp.sin(omega*t - kappa2*x))\n",
        "wsol  # for safety if display fails"
      ]
    },
    {
      "cell_type": "code",
      "execution_count": 13,
      "metadata": {},
      "outputs": [
        {
          "data": {
            "application/vnd.jupyter.widget-view+json": {
              "model_id": "cba5b4a58ec14613930e9d87fb56a051",
              "version_major": 2,
              "version_minor": 0
            },
            "text/plain": [
              "interactive(children=(IntSlider(value=25, description=r'$t/T$: [%]', step=25), IntSlider(value=50, description=…"
            ]
          },
          "metadata": {},
          "output_type": "display_data"
        }
      ],
      "source": [
        "interactive_earthquake_plot()"
      ]
    },
    {
      "cell_type": "markdown",
      "metadata": {},
      "source": [
        "Wie ändert sich die Eigenfrequenz mit steigender Auflast? Vergleichen Sie diese Tendenz mit dem Einmassenschwinger."
      ]
    }
  ],
  "metadata": {
    "kernelspec": {
      "display_name": "Python 3 (ipykernel)",
      "language": "python",
      "name": "python3"
    },
    "language_info": {
      "codemirror_mode": {
        "name": "ipython",
        "version": 3
      },
      "file_extension": ".py",
      "mimetype": "text/x-python",
      "name": "python",
      "nbconvert_exporter": "python",
      "pygments_lexer": "ipython3",
      "version": "3.9.18"
    },
    "widgets": {
      "application/vnd.jupyter.widget-state+json": {
        "state": {},
        "version_major": 2,
        "version_minor": 0
      }
    }
  },
  "nbformat": 4,
  "nbformat_minor": 4
}