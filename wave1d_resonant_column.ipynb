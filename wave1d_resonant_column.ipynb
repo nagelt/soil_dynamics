{
 "cells": [
  {
   "cell_type": "markdown",
   "metadata": {
    "deletable": false,
    "editable": false
   },
   "source": [
    "<div style=\"display: flex; align-items: center;\">\n",
    "    <img src=\"https://github.com/nagelt/Teaching_Scripts/raw/9d9e29ecca4b04eaf7397938eacbf116d37ddc93/Images/TUBAF_Logo_blau.png\" width=\"500\" height=\"auto\" height=\"auto\" style=\"margin-right: 100px;\" />\n",
    "    <div>\n",
    "        <p><strong>Prof. Dr. Thomas Nagel</strong></p>\n",
    "        <p>Chair of Soil Mechanics and Foundation Engineering<br>Geotechnical Institute<br>Technische Universität Bergakademie Freiberg.</p>\n",
    "        <p><a href=\"https://tu-freiberg.de/en/soilmechanics\">https://tu-freiberg.de/en/soilmechanics</a></p>\n",
    "    </div>\n",
    "</div>"
   ]
  },
  {
   "cell_type": "markdown",
   "metadata": {},
   "source": [
    "# Praktische Anwendungen"
   ]
  },
  {
   "cell_type": "markdown",
   "metadata": {},
   "source": [
    "Module laden"
   ]
  },
  {
   "cell_type": "code",
   "execution_count": null,
   "metadata": {},
   "outputs": [],
   "source": [
    "import numpy as np\n",
    "import matplotlib.pyplot as plt\n",
    "from scipy.optimize import fsolve\n",
    "from ipywidgets import widgets\n",
    "from ipywidgets import interact\n",
    "import plot_functions.plot_settings\n",
    "%run plot_functions/resonant_column_interaction.ipynb"
   ]
  },
  {
   "cell_type": "markdown",
   "metadata": {},
   "source": [
    "## Erste Eigenfrequenz eines Torsionsstabs mit Endmasse (Resonant Column)"
   ]
  },
  {
   "cell_type": "markdown",
   "metadata": {},
   "source": [
    "![resonant_column.svg](https://github.com/nagelt/soil_dynamics/raw/master/Images/resonant_column.svg)"
   ]
  },
  {
   "cell_type": "markdown",
   "metadata": {},
   "source": [
    "Verhältnis der verteilten Massenträgheit (Stab) zur konzentrierten (Endmasse): $M=\\frac{I\\rho l}{J_\\mathrm{end}}$"
   ]
  },
  {
   "cell_type": "code",
   "execution_count": null,
   "metadata": {},
   "outputs": [],
   "source": [
    "#HIDDEN\n",
    "resonant_column_plot()"
   ]
  },
  {
   "cell_type": "markdown",
   "metadata": {},
   "source": [
    "Aus $X=\\kappa l$ folgt die Eigenkreisfrequenz $\\omega_1=\\kappa_1 c=X_1 \\frac{c}{l}$"
   ]
  },
  {
   "cell_type": "markdown",
   "metadata": {},
   "source": [
    "### Vergleich mit Einfreitheitsgradnäherung (masseloser Stab, statische Steifigkeit)"
   ]
  },
  {
   "cell_type": "code",
   "execution_count": null,
   "metadata": {},
   "outputs": [],
   "source": [
    "N_num = 100\n",
    "M_num = np.linspace(0.01, 2, N_num)\n",
    "X1dof_num = np.zeros(N_num)\n",
    "X1_num = np.zeros(N_num)\n",
    "\n",
    "for index_n, M_n in enumerate(M_num):\n",
    "        fun = lambda X: M_n/X - np.tan(X)\n",
    "        fun_prime = lambda X: -M_n*X**(-2) - (1 + np.tan(X)**2)\n",
    "        x_guess = np.pi/4\n",
    "        x_sol = fsolve(fun, x_guess, fprime=fun_prime)\n",
    "        X1_num[index_n] = x_sol\n",
    "        X1dof_num[index_n] = np.sqrt(M_n)\n",
    "\n",
    "plt.plot(M_num, X1dof_num, 'k--', M_num, X1_num, 'k');\n",
    "plt.xlabel('$M$');\n",
    "plt.ylabel('$X$');"
   ]
  },
  {
   "cell_type": "markdown",
   "metadata": {},
   "source": [
    "Die durch das vereinfachte Einfreiheitsgradmodell genäherte Grundfrequenz ist höher als die des Stabmodells ($X=\\kappa l=\\omega l/v^2$). "
   ]
  },
  {
   "cell_type": "code",
   "execution_count": null,
   "metadata": {},
   "outputs": [],
   "source": []
  }
 ],
 "metadata": {
  "kernelspec": {
   "display_name": "Python 3 (ipykernel)",
   "language": "python",
   "name": "python3"
  },
  "language_info": {
   "codemirror_mode": {
    "name": "ipython",
    "version": 3
   },
   "file_extension": ".py",
   "mimetype": "text/x-python",
   "name": "python",
   "nbconvert_exporter": "python",
   "pygments_lexer": "ipython3",
   "version": "3.10.12"
  },
  "widgets": {
   "application/vnd.jupyter.widget-state+json": {
    "state": {},
    "version_major": 2,
    "version_minor": 0
   }
  }
 },
 "nbformat": 4,
 "nbformat_minor": 4
}
